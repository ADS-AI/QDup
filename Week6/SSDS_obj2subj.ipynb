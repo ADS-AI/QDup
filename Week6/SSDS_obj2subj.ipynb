{
  "nbformat": 4,
  "nbformat_minor": 0,
  "metadata": {
    "colab": {
      "name": "SSDS_obj2subj.ipynb",
      "provenance": [],
      "collapsed_sections": [],
      "authorship_tag": "ABX9TyNT9q/4SZbRNIOwY3mESU+v",
      "include_colab_link": true
    },
    "kernelspec": {
      "name": "python3",
      "display_name": "Python 3"
    },
    "language_info": {
      "name": "python"
    },
    "gpuClass": "standard"
  },
  "cells": [
    {
      "cell_type": "markdown",
      "metadata": {
        "id": "view-in-github",
        "colab_type": "text"
      },
      "source": [
        "<a href=\"https://colab.research.google.com/github/VenkteshV/Question_duplicate_detection/blob/main/Week6/SSDS_obj2subj.ipynb\" target=\"_parent\"><img src=\"https://colab.research.google.com/assets/colab-badge.svg\" alt=\"Open In Colab\"/></a>"
      ]
    },
    {
      "cell_type": "code",
      "execution_count": null,
      "metadata": {
        "id": "3yJQCrfBI2HC"
      },
      "outputs": [],
      "source": [
        "import pandas as pd\n",
        "import numpy as np"
      ]
    },
    {
      "cell_type": "code",
      "source": [
        "from google.colab import drive\n",
        "drive.mount('/content/drive')"
      ],
      "metadata": {
        "id": "sebG0tyaJAwl",
        "colab": {
          "base_uri": "https://localhost:8080/"
        },
        "outputId": "533ffdde-9739-48cd-9436-b3d303ad8eab"
      },
      "execution_count": null,
      "outputs": [
        {
          "output_type": "stream",
          "name": "stdout",
          "text": [
            "Drive already mounted at /content/drive; to attempt to forcibly remount, call drive.mount(\"/content/drive\", force_remount=True).\n"
          ]
        }
      ]
    },
    {
      "cell_type": "code",
      "source": [
        "df = pd.read_csv(\"/content/drive/MyDrive/Literature Review/Dataset versions/SSDS/SSDS_base_dataset\")\n",
        "df = df.drop(\"Unnamed: 0\", axis= 1)"
      ],
      "metadata": {
        "id": "gCSJD1HGJHkS"
      },
      "execution_count": null,
      "outputs": []
    },
    {
      "cell_type": "code",
      "source": [
        "df"
      ],
      "metadata": {
        "id": "T9o-Slr1JhUy",
        "colab": {
          "base_uri": "https://localhost:8080/",
          "height": 424
        },
        "outputId": "1ec302b7-bf83-4dbf-baf3-fddb6d4cf52b"
      },
      "execution_count": null,
      "outputs": [
        {
          "output_type": "execute_result",
          "data": {
            "text/plain": [
              "        question_id                                           question  \\\n",
              "0           1523485  the first method used for determining the actu...   \n",
              "1            833487      when we subtract a number from itself we get    \n",
              "2           2057553             what orbitals has two spherical nodes    \n",
              "3           1360683  the reagent used to step up in the homologous ...   \n",
              "4            849902                the shortcut key to delete a slide    \n",
              "...             ...                                                ...   \n",
              "117776       472951  a fully mature plant body undifferentiated int...   \n",
              "117777      1224733         how can one hundred and eleven be written    \n",
              "117778      1907752                           glycerol is purified by    \n",
              "117779      2060201  triclinic crystal has the following unit cell ...   \n",
              "117780      1463635  combine the following simple sentences into a ...   \n",
              "\n",
              "       syllabus_id                                    answer  \\\n",
              "0           518161         Swedish geologist Gerard De Geer    \n",
              "1            86295                                     zero    \n",
              "2           697667                                       6f    \n",
              "3           449190                             Diazomethane    \n",
              "4             5118                                   Ctrl X    \n",
              "...            ...                                       ...   \n",
              "117776        4069                                  thallus    \n",
              "117777       85942                           11 tens 1 unit    \n",
              "117778      731308                      Vaccum distillation    \n",
              "117779      700078                           a b c α β γ 90    \n",
              "117780        5906  One shouldn't lie or make false promise    \n",
              "\n",
              "                 question_type  \n",
              "0       Single Choice Question  \n",
              "1       Single Choice Question  \n",
              "2       Single Choice Question  \n",
              "3       Single Choice Question  \n",
              "4       Single Choice Question  \n",
              "...                        ...  \n",
              "117776  Single Choice Question  \n",
              "117777  Single Choice Question  \n",
              "117778  Single Choice Question  \n",
              "117779  Single Choice Question  \n",
              "117780  Single Choice Question  \n",
              "\n",
              "[117781 rows x 5 columns]"
            ],
            "text/html": [
              "\n",
              "  <div id=\"df-870c7422-d452-47ce-8fdf-33abd1e2cf46\">\n",
              "    <div class=\"colab-df-container\">\n",
              "      <div>\n",
              "<style scoped>\n",
              "    .dataframe tbody tr th:only-of-type {\n",
              "        vertical-align: middle;\n",
              "    }\n",
              "\n",
              "    .dataframe tbody tr th {\n",
              "        vertical-align: top;\n",
              "    }\n",
              "\n",
              "    .dataframe thead th {\n",
              "        text-align: right;\n",
              "    }\n",
              "</style>\n",
              "<table border=\"1\" class=\"dataframe\">\n",
              "  <thead>\n",
              "    <tr style=\"text-align: right;\">\n",
              "      <th></th>\n",
              "      <th>question_id</th>\n",
              "      <th>question</th>\n",
              "      <th>syllabus_id</th>\n",
              "      <th>answer</th>\n",
              "      <th>question_type</th>\n",
              "    </tr>\n",
              "  </thead>\n",
              "  <tbody>\n",
              "    <tr>\n",
              "      <th>0</th>\n",
              "      <td>1523485</td>\n",
              "      <td>the first method used for determining the actu...</td>\n",
              "      <td>518161</td>\n",
              "      <td>Swedish geologist Gerard De Geer</td>\n",
              "      <td>Single Choice Question</td>\n",
              "    </tr>\n",
              "    <tr>\n",
              "      <th>1</th>\n",
              "      <td>833487</td>\n",
              "      <td>when we subtract a number from itself we get</td>\n",
              "      <td>86295</td>\n",
              "      <td>zero</td>\n",
              "      <td>Single Choice Question</td>\n",
              "    </tr>\n",
              "    <tr>\n",
              "      <th>2</th>\n",
              "      <td>2057553</td>\n",
              "      <td>what orbitals has two spherical nodes</td>\n",
              "      <td>697667</td>\n",
              "      <td>6f</td>\n",
              "      <td>Single Choice Question</td>\n",
              "    </tr>\n",
              "    <tr>\n",
              "      <th>3</th>\n",
              "      <td>1360683</td>\n",
              "      <td>the reagent used to step up in the homologous ...</td>\n",
              "      <td>449190</td>\n",
              "      <td>Diazomethane</td>\n",
              "      <td>Single Choice Question</td>\n",
              "    </tr>\n",
              "    <tr>\n",
              "      <th>4</th>\n",
              "      <td>849902</td>\n",
              "      <td>the shortcut key to delete a slide</td>\n",
              "      <td>5118</td>\n",
              "      <td>Ctrl X</td>\n",
              "      <td>Single Choice Question</td>\n",
              "    </tr>\n",
              "    <tr>\n",
              "      <th>...</th>\n",
              "      <td>...</td>\n",
              "      <td>...</td>\n",
              "      <td>...</td>\n",
              "      <td>...</td>\n",
              "      <td>...</td>\n",
              "    </tr>\n",
              "    <tr>\n",
              "      <th>117776</th>\n",
              "      <td>472951</td>\n",
              "      <td>a fully mature plant body undifferentiated int...</td>\n",
              "      <td>4069</td>\n",
              "      <td>thallus</td>\n",
              "      <td>Single Choice Question</td>\n",
              "    </tr>\n",
              "    <tr>\n",
              "      <th>117777</th>\n",
              "      <td>1224733</td>\n",
              "      <td>how can one hundred and eleven be written</td>\n",
              "      <td>85942</td>\n",
              "      <td>11 tens 1 unit</td>\n",
              "      <td>Single Choice Question</td>\n",
              "    </tr>\n",
              "    <tr>\n",
              "      <th>117778</th>\n",
              "      <td>1907752</td>\n",
              "      <td>glycerol is purified by</td>\n",
              "      <td>731308</td>\n",
              "      <td>Vaccum distillation</td>\n",
              "      <td>Single Choice Question</td>\n",
              "    </tr>\n",
              "    <tr>\n",
              "      <th>117779</th>\n",
              "      <td>2060201</td>\n",
              "      <td>triclinic crystal has the following unit cell ...</td>\n",
              "      <td>700078</td>\n",
              "      <td>a b c α β γ 90</td>\n",
              "      <td>Single Choice Question</td>\n",
              "    </tr>\n",
              "    <tr>\n",
              "      <th>117780</th>\n",
              "      <td>1463635</td>\n",
              "      <td>combine the following simple sentences into a ...</td>\n",
              "      <td>5906</td>\n",
              "      <td>One shouldn't lie or make false promise</td>\n",
              "      <td>Single Choice Question</td>\n",
              "    </tr>\n",
              "  </tbody>\n",
              "</table>\n",
              "<p>117781 rows × 5 columns</p>\n",
              "</div>\n",
              "      <button class=\"colab-df-convert\" onclick=\"convertToInteractive('df-870c7422-d452-47ce-8fdf-33abd1e2cf46')\"\n",
              "              title=\"Convert this dataframe to an interactive table.\"\n",
              "              style=\"display:none;\">\n",
              "        \n",
              "  <svg xmlns=\"http://www.w3.org/2000/svg\" height=\"24px\"viewBox=\"0 0 24 24\"\n",
              "       width=\"24px\">\n",
              "    <path d=\"M0 0h24v24H0V0z\" fill=\"none\"/>\n",
              "    <path d=\"M18.56 5.44l.94 2.06.94-2.06 2.06-.94-2.06-.94-.94-2.06-.94 2.06-2.06.94zm-11 1L8.5 8.5l.94-2.06 2.06-.94-2.06-.94L8.5 2.5l-.94 2.06-2.06.94zm10 10l.94 2.06.94-2.06 2.06-.94-2.06-.94-.94-2.06-.94 2.06-2.06.94z\"/><path d=\"M17.41 7.96l-1.37-1.37c-.4-.4-.92-.59-1.43-.59-.52 0-1.04.2-1.43.59L10.3 9.45l-7.72 7.72c-.78.78-.78 2.05 0 2.83L4 21.41c.39.39.9.59 1.41.59.51 0 1.02-.2 1.41-.59l7.78-7.78 2.81-2.81c.8-.78.8-2.07 0-2.86zM5.41 20L4 18.59l7.72-7.72 1.47 1.35L5.41 20z\"/>\n",
              "  </svg>\n",
              "      </button>\n",
              "      \n",
              "  <style>\n",
              "    .colab-df-container {\n",
              "      display:flex;\n",
              "      flex-wrap:wrap;\n",
              "      gap: 12px;\n",
              "    }\n",
              "\n",
              "    .colab-df-convert {\n",
              "      background-color: #E8F0FE;\n",
              "      border: none;\n",
              "      border-radius: 50%;\n",
              "      cursor: pointer;\n",
              "      display: none;\n",
              "      fill: #1967D2;\n",
              "      height: 32px;\n",
              "      padding: 0 0 0 0;\n",
              "      width: 32px;\n",
              "    }\n",
              "\n",
              "    .colab-df-convert:hover {\n",
              "      background-color: #E2EBFA;\n",
              "      box-shadow: 0px 1px 2px rgba(60, 64, 67, 0.3), 0px 1px 3px 1px rgba(60, 64, 67, 0.15);\n",
              "      fill: #174EA6;\n",
              "    }\n",
              "\n",
              "    [theme=dark] .colab-df-convert {\n",
              "      background-color: #3B4455;\n",
              "      fill: #D2E3FC;\n",
              "    }\n",
              "\n",
              "    [theme=dark] .colab-df-convert:hover {\n",
              "      background-color: #434B5C;\n",
              "      box-shadow: 0px 1px 3px 1px rgba(0, 0, 0, 0.15);\n",
              "      filter: drop-shadow(0px 1px 2px rgba(0, 0, 0, 0.3));\n",
              "      fill: #FFFFFF;\n",
              "    }\n",
              "  </style>\n",
              "\n",
              "      <script>\n",
              "        const buttonEl =\n",
              "          document.querySelector('#df-870c7422-d452-47ce-8fdf-33abd1e2cf46 button.colab-df-convert');\n",
              "        buttonEl.style.display =\n",
              "          google.colab.kernel.accessAllowed ? 'block' : 'none';\n",
              "\n",
              "        async function convertToInteractive(key) {\n",
              "          const element = document.querySelector('#df-870c7422-d452-47ce-8fdf-33abd1e2cf46');\n",
              "          const dataTable =\n",
              "            await google.colab.kernel.invokeFunction('convertToInteractive',\n",
              "                                                     [key], {});\n",
              "          if (!dataTable) return;\n",
              "\n",
              "          const docLinkHtml = 'Like what you see? Visit the ' +\n",
              "            '<a target=\"_blank\" href=https://colab.research.google.com/notebooks/data_table.ipynb>data table notebook</a>'\n",
              "            + ' to learn more about interactive tables.';\n",
              "          element.innerHTML = '';\n",
              "          dataTable['output_type'] = 'display_data';\n",
              "          await google.colab.output.renderOutput(dataTable, element);\n",
              "          const docLink = document.createElement('div');\n",
              "          docLink.innerHTML = docLinkHtml;\n",
              "          element.appendChild(docLink);\n",
              "        }\n",
              "      </script>\n",
              "    </div>\n",
              "  </div>\n",
              "  "
            ]
          },
          "metadata": {},
          "execution_count": 30
        }
      ]
    },
    {
      "cell_type": "code",
      "source": [
        "df['question_type'].value_counts()"
      ],
      "metadata": {
        "id": "LJKhQ_8dK9I7",
        "colab": {
          "base_uri": "https://localhost:8080/"
        },
        "outputId": "f271f2e4-7196-42cc-9a04-29ee39299a2b"
      },
      "execution_count": null,
      "outputs": [
        {
          "output_type": "execute_result",
          "data": {
            "text/plain": [
              "Single Choice Question      75722\n",
              "Subjective Question         41293\n",
              "Multiple Choice Question      603\n",
              "Integer Question              163\n",
              "Name: question_type, dtype: int64"
            ]
          },
          "metadata": {},
          "execution_count": 31
        }
      ]
    },
    {
      "cell_type": "code",
      "source": [
        "# smolDf = df[df['question_type'] != \"Subjective Question\"][:100]\n",
        "# smolDf.to_csv(\"/content/drive/MyDrive/Literature Review/Dataset versions/SSDS/PassedToObj2subj.csv\")"
      ],
      "metadata": {
        "id": "4nyHftPdK2FT"
      },
      "execution_count": null,
      "outputs": []
    },
    {
      "cell_type": "code",
      "source": [
        "smolDf = pd.read_csv(\"/content/drive/MyDrive/Literature Review/Dataset versions/SSDS/PassedToObj2subj.csv\")"
      ],
      "metadata": {
        "id": "kgkaAhR4J3YE"
      },
      "execution_count": null,
      "outputs": []
    },
    {
      "cell_type": "markdown",
      "source": [
        "Upload the smolDf to obj2subj and then read the output of obj2subj further as \"converted.csv\""
      ],
      "metadata": {
        "id": "7nFJk0L7Syz3"
      }
    },
    {
      "cell_type": "code",
      "source": [
        "convertedDf = pd.read_csv(\"converted.csv\")"
      ],
      "metadata": {
        "id": "Y8UUUoqrNQAO"
      },
      "execution_count": null,
      "outputs": []
    },
    {
      "cell_type": "code",
      "source": [
        "convertedDf "
      ],
      "metadata": {
        "colab": {
          "base_uri": "https://localhost:8080/",
          "height": 493
        },
        "id": "ybWDS6VJTEnU",
        "outputId": "04023e6e-5ff7-47aa-ed25-5538715d5755"
      },
      "execution_count": null,
      "outputs": [
        {
          "output_type": "execute_result",
          "data": {
            "text/plain": [
              "                                       Original Ques  \\\n",
              "0                                  Unable to resolve   \n",
              "1  as per the consumer protection act a consumer ...   \n",
              "2                     in trading account we include    \n",
              "3                                  Unable to resolve   \n",
              "4  in metallurgical process the flux used for rem...   \n",
              "\n",
              "                               Original Answer  \\\n",
              "0                            Unable to resolve   \n",
              "1  avails services for any commercial purpose    \n",
              "2                             direct expenses    \n",
              "3                            Unable to resolve   \n",
              "4                                  Lime stone    \n",
              "\n",
              "                              Cleaned Objective Ques  \\\n",
              "0                                  Unable to resolve   \n",
              "1  as per the consumer protection act a consumer ...   \n",
              "2                      in trading account we include   \n",
              "3                                  Unable to resolve   \n",
              "4  in metallurgical process the flux used for rem...   \n",
              "\n",
              "                               Cleaned Answer  \\\n",
              "0                           Unable to resolve   \n",
              "1  avails services for any commercial purpose   \n",
              "2                             direct expenses   \n",
              "3                           Unable to resolve   \n",
              "4                                  Lime stone   \n",
              "\n",
              "                                  Subjective Ques #1       confidence #1  \\\n",
              "0                                  Unable to resolve   Unable to resolve   \n",
              "1  Who is not a consumer under consumer protectio...    0.67972332239151   \n",
              "2       Is direct expenses shown in trading account?  0.9071319699287415   \n",
              "3                                  Unable to resolve   Unable to resolve   \n",
              "4  Which of the following flux is used to remove ...  0.8439021706581116   \n",
              "\n",
              "                                  Subjective Ques #2       confidence #2  \\\n",
              "0                                  Unable to resolve   Unable to resolve   \n",
              "1           What is included in consumer protection?  0.6621015071868896   \n",
              "2    Does trading account include indirect expenses?  0.8172741532325745   \n",
              "3                                  Unable to resolve   Unable to resolve   \n",
              "4  What is in metallurgical process the flux used...  0.8120149374008179   \n",
              "\n",
              "                                  Subjective Ques #3       confidence #3  \n",
              "0                                  Unable to resolve   Unable to resolve  \n",
              "1  Who is a consumer what are his rights under Co...  0.6401658058166504  \n",
              "2                 Is trade expense a direct expense?  0.7624610662460327  \n",
              "3                                  Unable to resolve   Unable to resolve  \n",
              "4  Which of the following fluxes is used to remov...  0.8084845542907715  "
            ],
            "text/html": [
              "\n",
              "  <div id=\"df-df14e580-921f-4fc2-b1ff-d11eaec6bd40\">\n",
              "    <div class=\"colab-df-container\">\n",
              "      <div>\n",
              "<style scoped>\n",
              "    .dataframe tbody tr th:only-of-type {\n",
              "        vertical-align: middle;\n",
              "    }\n",
              "\n",
              "    .dataframe tbody tr th {\n",
              "        vertical-align: top;\n",
              "    }\n",
              "\n",
              "    .dataframe thead th {\n",
              "        text-align: right;\n",
              "    }\n",
              "</style>\n",
              "<table border=\"1\" class=\"dataframe\">\n",
              "  <thead>\n",
              "    <tr style=\"text-align: right;\">\n",
              "      <th></th>\n",
              "      <th>Original Ques</th>\n",
              "      <th>Original Answer</th>\n",
              "      <th>Cleaned Objective Ques</th>\n",
              "      <th>Cleaned Answer</th>\n",
              "      <th>Subjective Ques #1</th>\n",
              "      <th>confidence #1</th>\n",
              "      <th>Subjective Ques #2</th>\n",
              "      <th>confidence #2</th>\n",
              "      <th>Subjective Ques #3</th>\n",
              "      <th>confidence #3</th>\n",
              "    </tr>\n",
              "  </thead>\n",
              "  <tbody>\n",
              "    <tr>\n",
              "      <th>0</th>\n",
              "      <td>Unable to resolve</td>\n",
              "      <td>Unable to resolve</td>\n",
              "      <td>Unable to resolve</td>\n",
              "      <td>Unable to resolve</td>\n",
              "      <td>Unable to resolve</td>\n",
              "      <td>Unable to resolve</td>\n",
              "      <td>Unable to resolve</td>\n",
              "      <td>Unable to resolve</td>\n",
              "      <td>Unable to resolve</td>\n",
              "      <td>Unable to resolve</td>\n",
              "    </tr>\n",
              "    <tr>\n",
              "      <th>1</th>\n",
              "      <td>as per the consumer protection act a consumer ...</td>\n",
              "      <td>avails services for any commercial purpose</td>\n",
              "      <td>as per the consumer protection act a consumer ...</td>\n",
              "      <td>avails services for any commercial purpose</td>\n",
              "      <td>Who is not a consumer under consumer protectio...</td>\n",
              "      <td>0.67972332239151</td>\n",
              "      <td>What is included in consumer protection?</td>\n",
              "      <td>0.6621015071868896</td>\n",
              "      <td>Who is a consumer what are his rights under Co...</td>\n",
              "      <td>0.6401658058166504</td>\n",
              "    </tr>\n",
              "    <tr>\n",
              "      <th>2</th>\n",
              "      <td>in trading account we include</td>\n",
              "      <td>direct expenses</td>\n",
              "      <td>in trading account we include</td>\n",
              "      <td>direct expenses</td>\n",
              "      <td>Is direct expenses shown in trading account?</td>\n",
              "      <td>0.9071319699287415</td>\n",
              "      <td>Does trading account include indirect expenses?</td>\n",
              "      <td>0.8172741532325745</td>\n",
              "      <td>Is trade expense a direct expense?</td>\n",
              "      <td>0.7624610662460327</td>\n",
              "    </tr>\n",
              "    <tr>\n",
              "      <th>3</th>\n",
              "      <td>Unable to resolve</td>\n",
              "      <td>Unable to resolve</td>\n",
              "      <td>Unable to resolve</td>\n",
              "      <td>Unable to resolve</td>\n",
              "      <td>Unable to resolve</td>\n",
              "      <td>Unable to resolve</td>\n",
              "      <td>Unable to resolve</td>\n",
              "      <td>Unable to resolve</td>\n",
              "      <td>Unable to resolve</td>\n",
              "      <td>Unable to resolve</td>\n",
              "    </tr>\n",
              "    <tr>\n",
              "      <th>4</th>\n",
              "      <td>in metallurgical process the flux used for rem...</td>\n",
              "      <td>Lime stone</td>\n",
              "      <td>in metallurgical process the flux used for rem...</td>\n",
              "      <td>Lime stone</td>\n",
              "      <td>Which of the following flux is used to remove ...</td>\n",
              "      <td>0.8439021706581116</td>\n",
              "      <td>What is in metallurgical process the flux used...</td>\n",
              "      <td>0.8120149374008179</td>\n",
              "      <td>Which of the following fluxes is used to remov...</td>\n",
              "      <td>0.8084845542907715</td>\n",
              "    </tr>\n",
              "  </tbody>\n",
              "</table>\n",
              "</div>\n",
              "      <button class=\"colab-df-convert\" onclick=\"convertToInteractive('df-df14e580-921f-4fc2-b1ff-d11eaec6bd40')\"\n",
              "              title=\"Convert this dataframe to an interactive table.\"\n",
              "              style=\"display:none;\">\n",
              "        \n",
              "  <svg xmlns=\"http://www.w3.org/2000/svg\" height=\"24px\"viewBox=\"0 0 24 24\"\n",
              "       width=\"24px\">\n",
              "    <path d=\"M0 0h24v24H0V0z\" fill=\"none\"/>\n",
              "    <path d=\"M18.56 5.44l.94 2.06.94-2.06 2.06-.94-2.06-.94-.94-2.06-.94 2.06-2.06.94zm-11 1L8.5 8.5l.94-2.06 2.06-.94-2.06-.94L8.5 2.5l-.94 2.06-2.06.94zm10 10l.94 2.06.94-2.06 2.06-.94-2.06-.94-.94-2.06-.94 2.06-2.06.94z\"/><path d=\"M17.41 7.96l-1.37-1.37c-.4-.4-.92-.59-1.43-.59-.52 0-1.04.2-1.43.59L10.3 9.45l-7.72 7.72c-.78.78-.78 2.05 0 2.83L4 21.41c.39.39.9.59 1.41.59.51 0 1.02-.2 1.41-.59l7.78-7.78 2.81-2.81c.8-.78.8-2.07 0-2.86zM5.41 20L4 18.59l7.72-7.72 1.47 1.35L5.41 20z\"/>\n",
              "  </svg>\n",
              "      </button>\n",
              "      \n",
              "  <style>\n",
              "    .colab-df-container {\n",
              "      display:flex;\n",
              "      flex-wrap:wrap;\n",
              "      gap: 12px;\n",
              "    }\n",
              "\n",
              "    .colab-df-convert {\n",
              "      background-color: #E8F0FE;\n",
              "      border: none;\n",
              "      border-radius: 50%;\n",
              "      cursor: pointer;\n",
              "      display: none;\n",
              "      fill: #1967D2;\n",
              "      height: 32px;\n",
              "      padding: 0 0 0 0;\n",
              "      width: 32px;\n",
              "    }\n",
              "\n",
              "    .colab-df-convert:hover {\n",
              "      background-color: #E2EBFA;\n",
              "      box-shadow: 0px 1px 2px rgba(60, 64, 67, 0.3), 0px 1px 3px 1px rgba(60, 64, 67, 0.15);\n",
              "      fill: #174EA6;\n",
              "    }\n",
              "\n",
              "    [theme=dark] .colab-df-convert {\n",
              "      background-color: #3B4455;\n",
              "      fill: #D2E3FC;\n",
              "    }\n",
              "\n",
              "    [theme=dark] .colab-df-convert:hover {\n",
              "      background-color: #434B5C;\n",
              "      box-shadow: 0px 1px 3px 1px rgba(0, 0, 0, 0.15);\n",
              "      filter: drop-shadow(0px 1px 2px rgba(0, 0, 0, 0.3));\n",
              "      fill: #FFFFFF;\n",
              "    }\n",
              "  </style>\n",
              "\n",
              "      <script>\n",
              "        const buttonEl =\n",
              "          document.querySelector('#df-df14e580-921f-4fc2-b1ff-d11eaec6bd40 button.colab-df-convert');\n",
              "        buttonEl.style.display =\n",
              "          google.colab.kernel.accessAllowed ? 'block' : 'none';\n",
              "\n",
              "        async function convertToInteractive(key) {\n",
              "          const element = document.querySelector('#df-df14e580-921f-4fc2-b1ff-d11eaec6bd40');\n",
              "          const dataTable =\n",
              "            await google.colab.kernel.invokeFunction('convertToInteractive',\n",
              "                                                     [key], {});\n",
              "          if (!dataTable) return;\n",
              "\n",
              "          const docLinkHtml = 'Like what you see? Visit the ' +\n",
              "            '<a target=\"_blank\" href=https://colab.research.google.com/notebooks/data_table.ipynb>data table notebook</a>'\n",
              "            + ' to learn more about interactive tables.';\n",
              "          element.innerHTML = '';\n",
              "          dataTable['output_type'] = 'display_data';\n",
              "          await google.colab.output.renderOutput(dataTable, element);\n",
              "          const docLink = document.createElement('div');\n",
              "          docLink.innerHTML = docLinkHtml;\n",
              "          element.appendChild(docLink);\n",
              "        }\n",
              "      </script>\n",
              "    </div>\n",
              "  </div>\n",
              "  "
            ]
          },
          "metadata": {},
          "execution_count": 36
        }
      ]
    },
    {
      "cell_type": "code",
      "source": [
        "convertedDf = convertedDf[convertedDf['Original Ques'] != \"Unable to resolve\"]"
      ],
      "metadata": {
        "id": "Y0X-to8kTGfg"
      },
      "execution_count": null,
      "outputs": []
    },
    {
      "cell_type": "code",
      "source": [
        "ssds_res = convertedDf[['Subjective Ques #1', 'Subjective Ques #2']]"
      ],
      "metadata": {
        "id": "ka3AI2SzTN1f"
      },
      "execution_count": null,
      "outputs": []
    },
    {
      "cell_type": "code",
      "source": [
        "ssds_res.to_csv(\"/content/drive/MyDrive/Literature Review/Dataset versions/SSDS/obj2Subj.csv\")"
      ],
      "metadata": {
        "id": "uvkMdD9STbBn"
      },
      "execution_count": null,
      "outputs": []
    },
    {
      "cell_type": "code",
      "source": [
        ""
      ],
      "metadata": {
        "id": "_QkF30O_TjKh"
      },
      "execution_count": null,
      "outputs": []
    }
  ]
}