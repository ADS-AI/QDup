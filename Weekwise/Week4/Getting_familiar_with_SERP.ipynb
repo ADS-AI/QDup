{
  "nbformat": 4,
  "nbformat_minor": 0,
  "metadata": {
    "colab": {
      "name": "Getting familiar with SERP.ipynb",
      "private_outputs": true,
      "provenance": [],
      "authorship_tag": "ABX9TyMt3KisoDCoetz8rZwmMafc",
      "include_colab_link": true
    },
    "kernelspec": {
      "name": "python3",
      "display_name": "Python 3"
    },
    "language_info": {
      "name": "python"
    }
  },
  "cells": [
    {
      "cell_type": "markdown",
      "metadata": {
        "id": "view-in-github",
        "colab_type": "text"
      },
      "source": [
        "<a href=\"https://colab.research.google.com/github/VenkteshV/Question_duplicate_detection/blob/main/Week4/Getting_familiar_with_SERP.ipynb\" target=\"_parent\"><img src=\"https://colab.research.google.com/assets/colab-badge.svg\" alt=\"Open In Colab\"/></a>"
      ]
    },
    {
      "cell_type": "code",
      "source": [
        "!pip install google-search-results"
      ],
      "metadata": {
        "id": "a4nIEk1UEeHG"
      },
      "execution_count": null,
      "outputs": []
    },
    {
      "cell_type": "markdown",
      "source": [
        "Different types of serp answer box are:\n",
        "1. Calculator  \n",
        "2. weather\n",
        "3. finance\n",
        "4. population\n",
        "5. converter\n",
        "6. flights\n",
        "7. hotels\n",
        "8. dictionary\n",
        "9. list\n",
        "10. organic_result\n",
        "11. Multiple answers\n",
        "12. translation result\n",
        "13. directions\n",
        "\n",
        "\n",
        "\n",
        "\n"
      ],
      "metadata": {
        "id": "KcYJH_LFE0Qv"
      }
    },
    {
      "cell_type": "markdown",
      "source": [
        "Out of these we might need:\n",
        "8. dictionary\n",
        "9. list\n",
        "10. organic_result\n",
        "11. Multiple answers\n",
        "12. translation result\n",
        "\n"
      ],
      "metadata": {
        "id": "pmq8VYSIFxRK"
      }
    },
    {
      "cell_type": "code",
      "execution_count": null,
      "metadata": {
        "id": "Ufu00IbsEVy4"
      },
      "outputs": [],
      "source": [
        "from serpapi import GoogleSearch\n",
        "\n",
        "params = {\n",
        "  \"q\": \"What's the definition of transparent?\",\n",
        "  \"hl\": \"en\",\n",
        "  \"gl\": \"us\",\n",
        "  \"api_key\": \"224556e81683d597bbbf5008180f729530ad4aa94439813754458f25f2ab826d\"\n",
        "}\n",
        "\n",
        "search = GoogleSearch(params)\n",
        "results = search.get_dict()\n",
        "answer_box = results[\"answer_box\"]"
      ]
    },
    {
      "cell_type": "code",
      "source": [
        "answer_box['type']"
      ],
      "metadata": {
        "id": "OsSZ5sa2EYvF"
      },
      "execution_count": null,
      "outputs": []
    },
    {
      "cell_type": "code",
      "source": [
        "questions=  [\"Second stage in the preparation of final accounts is\",\n",
        "             \"Distinguish between Debit Note and Credit Note \",\n",
        "             \n",
        "             \n",
        "\n",
        "\n",
        "]"
      ],
      "metadata": {
        "id": "avgBoYRuExti"
      },
      "execution_count": null,
      "outputs": []
    }
  ]
}