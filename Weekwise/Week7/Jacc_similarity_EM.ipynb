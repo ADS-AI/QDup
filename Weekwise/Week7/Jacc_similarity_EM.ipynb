{
  "cells": [
    {
      "cell_type": "markdown",
      "metadata": {
        "id": "view-in-github",
        "colab_type": "text"
      },
      "source": [
        "<a href=\"https://colab.research.google.com/github/VenkteshV/Question_duplicate_detection/blob/main/Week7/Jacc_similarity_EM.ipynb\" target=\"_parent\"><img src=\"https://colab.research.google.com/assets/colab-badge.svg\" alt=\"Open In Colab\"/></a>"
      ]
    },
    {
      "cell_type": "code",
      "execution_count": 1,
      "metadata": {
        "id": "mrIt2TMI2I2L"
      },
      "outputs": [],
      "source": [
        "%matplotlib inline\n",
        "import matplotlib.pyplot as plt\n",
        "import seaborn as sns\n",
        "import pandas as pd\n",
        "import numpy as np\n",
        "from tqdm import tqdm"
      ]
    },
    {
      "cell_type": "code",
      "execution_count": 2,
      "metadata": {
        "colab": {
          "base_uri": "https://localhost:8080/"
        },
        "id": "nY8CV-694AX-",
        "outputId": "59e97cf8-065a-4324-8452-0184858ab641"
      },
      "outputs": [
        {
          "output_type": "stream",
          "name": "stdout",
          "text": [
            "Drive already mounted at /content/drive; to attempt to forcibly remount, call drive.mount(\"/content/drive\", force_remount=True).\n"
          ]
        }
      ],
      "source": [
        "from google.colab import drive\n",
        "drive.mount('/content/drive')"
      ]
    },
    {
      "cell_type": "code",
      "execution_count": 3,
      "metadata": {
        "id": "qYOhLT8OctwT"
      },
      "outputs": [],
      "source": [
        "df = pd.read_csv(\"drive/My Drive/Extramarks Project/Dataset versions/JEE-ans-no_num-no_fillBlank-replaced_ofthefollowing\", index_col = 0 )"
      ]
    },
    {
      "cell_type": "code",
      "source": [
        "df.head()"
      ],
      "metadata": {
        "colab": {
          "base_uri": "https://localhost:8080/",
          "height": 201
        },
        "id": "YSaRCAKuLaIM",
        "outputId": "8d4ed0c2-ca8f-4db6-f326-817df873ae4a"
      },
      "execution_count": 4,
      "outputs": [
        {
          "output_type": "execute_result",
          "data": {
            "text/plain": [
              "   question_id                                           question syllabus_id  \\\n",
              "0      2073346         how many π bonds are present in ferrocene       700295   \n",
              "1      2073324  what is covalency of chlorine atom in second e...      698013   \n",
              "2      2073225  in solid x atoms goes to corner of the cube an...      700078   \n",
              "3      2073215  calculate value of x y here x and y are the to...      697895   \n",
              "4      2073202  in phosphorus acid if x is number of non bondi...      697895   \n",
              "\n",
              "                                              answer        question_type  \n",
              "0                                                 a   Subjective Question  \n",
              "1                                                 a   Subjective Question  \n",
              "2                         No of x atoms 8 18 2 12 2   Subjective Question  \n",
              "3  stryde images 2022 04 11 202204110162130016496...  Subjective Question  \n",
              "4  stryde images 2022 04 11 202204119693370016496...  Subjective Question  "
            ],
            "text/html": [
              "\n",
              "  <div id=\"df-b457ac38-5983-4618-a198-79c30756668a\">\n",
              "    <div class=\"colab-df-container\">\n",
              "      <div>\n",
              "<style scoped>\n",
              "    .dataframe tbody tr th:only-of-type {\n",
              "        vertical-align: middle;\n",
              "    }\n",
              "\n",
              "    .dataframe tbody tr th {\n",
              "        vertical-align: top;\n",
              "    }\n",
              "\n",
              "    .dataframe thead th {\n",
              "        text-align: right;\n",
              "    }\n",
              "</style>\n",
              "<table border=\"1\" class=\"dataframe\">\n",
              "  <thead>\n",
              "    <tr style=\"text-align: right;\">\n",
              "      <th></th>\n",
              "      <th>question_id</th>\n",
              "      <th>question</th>\n",
              "      <th>syllabus_id</th>\n",
              "      <th>answer</th>\n",
              "      <th>question_type</th>\n",
              "    </tr>\n",
              "  </thead>\n",
              "  <tbody>\n",
              "    <tr>\n",
              "      <th>0</th>\n",
              "      <td>2073346</td>\n",
              "      <td>how many π bonds are present in ferrocene</td>\n",
              "      <td>700295</td>\n",
              "      <td>a</td>\n",
              "      <td>Subjective Question</td>\n",
              "    </tr>\n",
              "    <tr>\n",
              "      <th>1</th>\n",
              "      <td>2073324</td>\n",
              "      <td>what is covalency of chlorine atom in second e...</td>\n",
              "      <td>698013</td>\n",
              "      <td>a</td>\n",
              "      <td>Subjective Question</td>\n",
              "    </tr>\n",
              "    <tr>\n",
              "      <th>2</th>\n",
              "      <td>2073225</td>\n",
              "      <td>in solid x atoms goes to corner of the cube an...</td>\n",
              "      <td>700078</td>\n",
              "      <td>No of x atoms 8 18 2 12 2</td>\n",
              "      <td>Subjective Question</td>\n",
              "    </tr>\n",
              "    <tr>\n",
              "      <th>3</th>\n",
              "      <td>2073215</td>\n",
              "      <td>calculate value of x y here x and y are the to...</td>\n",
              "      <td>697895</td>\n",
              "      <td>stryde images 2022 04 11 202204110162130016496...</td>\n",
              "      <td>Subjective Question</td>\n",
              "    </tr>\n",
              "    <tr>\n",
              "      <th>4</th>\n",
              "      <td>2073202</td>\n",
              "      <td>in phosphorus acid if x is number of non bondi...</td>\n",
              "      <td>697895</td>\n",
              "      <td>stryde images 2022 04 11 202204119693370016496...</td>\n",
              "      <td>Subjective Question</td>\n",
              "    </tr>\n",
              "  </tbody>\n",
              "</table>\n",
              "</div>\n",
              "      <button class=\"colab-df-convert\" onclick=\"convertToInteractive('df-b457ac38-5983-4618-a198-79c30756668a')\"\n",
              "              title=\"Convert this dataframe to an interactive table.\"\n",
              "              style=\"display:none;\">\n",
              "        \n",
              "  <svg xmlns=\"http://www.w3.org/2000/svg\" height=\"24px\"viewBox=\"0 0 24 24\"\n",
              "       width=\"24px\">\n",
              "    <path d=\"M0 0h24v24H0V0z\" fill=\"none\"/>\n",
              "    <path d=\"M18.56 5.44l.94 2.06.94-2.06 2.06-.94-2.06-.94-.94-2.06-.94 2.06-2.06.94zm-11 1L8.5 8.5l.94-2.06 2.06-.94-2.06-.94L8.5 2.5l-.94 2.06-2.06.94zm10 10l.94 2.06.94-2.06 2.06-.94-2.06-.94-.94-2.06-.94 2.06-2.06.94z\"/><path d=\"M17.41 7.96l-1.37-1.37c-.4-.4-.92-.59-1.43-.59-.52 0-1.04.2-1.43.59L10.3 9.45l-7.72 7.72c-.78.78-.78 2.05 0 2.83L4 21.41c.39.39.9.59 1.41.59.51 0 1.02-.2 1.41-.59l7.78-7.78 2.81-2.81c.8-.78.8-2.07 0-2.86zM5.41 20L4 18.59l7.72-7.72 1.47 1.35L5.41 20z\"/>\n",
              "  </svg>\n",
              "      </button>\n",
              "      \n",
              "  <style>\n",
              "    .colab-df-container {\n",
              "      display:flex;\n",
              "      flex-wrap:wrap;\n",
              "      gap: 12px;\n",
              "    }\n",
              "\n",
              "    .colab-df-convert {\n",
              "      background-color: #E8F0FE;\n",
              "      border: none;\n",
              "      border-radius: 50%;\n",
              "      cursor: pointer;\n",
              "      display: none;\n",
              "      fill: #1967D2;\n",
              "      height: 32px;\n",
              "      padding: 0 0 0 0;\n",
              "      width: 32px;\n",
              "    }\n",
              "\n",
              "    .colab-df-convert:hover {\n",
              "      background-color: #E2EBFA;\n",
              "      box-shadow: 0px 1px 2px rgba(60, 64, 67, 0.3), 0px 1px 3px 1px rgba(60, 64, 67, 0.15);\n",
              "      fill: #174EA6;\n",
              "    }\n",
              "\n",
              "    [theme=dark] .colab-df-convert {\n",
              "      background-color: #3B4455;\n",
              "      fill: #D2E3FC;\n",
              "    }\n",
              "\n",
              "    [theme=dark] .colab-df-convert:hover {\n",
              "      background-color: #434B5C;\n",
              "      box-shadow: 0px 1px 3px 1px rgba(0, 0, 0, 0.15);\n",
              "      filter: drop-shadow(0px 1px 2px rgba(0, 0, 0, 0.3));\n",
              "      fill: #FFFFFF;\n",
              "    }\n",
              "  </style>\n",
              "\n",
              "      <script>\n",
              "        const buttonEl =\n",
              "          document.querySelector('#df-b457ac38-5983-4618-a198-79c30756668a button.colab-df-convert');\n",
              "        buttonEl.style.display =\n",
              "          google.colab.kernel.accessAllowed ? 'block' : 'none';\n",
              "\n",
              "        async function convertToInteractive(key) {\n",
              "          const element = document.querySelector('#df-b457ac38-5983-4618-a198-79c30756668a');\n",
              "          const dataTable =\n",
              "            await google.colab.kernel.invokeFunction('convertToInteractive',\n",
              "                                                     [key], {});\n",
              "          if (!dataTable) return;\n",
              "\n",
              "          const docLinkHtml = 'Like what you see? Visit the ' +\n",
              "            '<a target=\"_blank\" href=https://colab.research.google.com/notebooks/data_table.ipynb>data table notebook</a>'\n",
              "            + ' to learn more about interactive tables.';\n",
              "          element.innerHTML = '';\n",
              "          dataTable['output_type'] = 'display_data';\n",
              "          await google.colab.output.renderOutput(dataTable, element);\n",
              "          const docLink = document.createElement('div');\n",
              "          docLink.innerHTML = docLinkHtml;\n",
              "          element.appendChild(docLink);\n",
              "        }\n",
              "      </script>\n",
              "    </div>\n",
              "  </div>\n",
              "  "
            ]
          },
          "metadata": {},
          "execution_count": 4
        }
      ]
    },
    {
      "cell_type": "code",
      "source": [
        "print(\"Number of Questions in this pre-processed data :\", df.shape[0])\n",
        "print(df.shape)"
      ],
      "metadata": {
        "colab": {
          "base_uri": "https://localhost:8080/"
        },
        "id": "hlQWfz7N7LTp",
        "outputId": "a6ec2614-6ff3-4724-8519-ad38310e4635"
      },
      "execution_count": 5,
      "outputs": [
        {
          "output_type": "stream",
          "name": "stdout",
          "text": [
            "Number of Questions in this pre-processed data : 117781\n",
            "(117781, 5)\n"
          ]
        }
      ]
    },
    {
      "cell_type": "code",
      "source": [
        "print(df.isnull().sum())\n",
        "df = df.dropna()   # Should have dropped single choice questions though\n",
        "print(df.isnull().sum())"
      ],
      "metadata": {
        "colab": {
          "base_uri": "https://localhost:8080/"
        },
        "id": "HcgfRIjyZZWU",
        "outputId": "75745f3a-f71b-411d-bd1f-159b1e028e1e"
      },
      "execution_count": 6,
      "outputs": [
        {
          "output_type": "stream",
          "name": "stdout",
          "text": [
            "question_id        0\n",
            "question           0\n",
            "syllabus_id        0\n",
            "answer           544\n",
            "question_type      0\n",
            "dtype: int64\n",
            "question_id      0\n",
            "question         0\n",
            "syllabus_id      0\n",
            "answer           0\n",
            "question_type    0\n",
            "dtype: int64\n"
          ]
        }
      ]
    },
    {
      "cell_type": "code",
      "source": [
        "# Data we're working with currently\n",
        "df['question_type'].value_counts()"
      ],
      "metadata": {
        "colab": {
          "base_uri": "https://localhost:8080/"
        },
        "id": "dc0nFcB7bYD9",
        "outputId": "6b91809f-433e-421d-f735-90b595b8a5e6"
      },
      "execution_count": 7,
      "outputs": [
        {
          "output_type": "execute_result",
          "data": {
            "text/plain": [
              "Single Choice Question      75424\n",
              "Subjective Question         41051\n",
              "Multiple Choice Question      599\n",
              "Integer Question              163\n",
              "Name: question_type, dtype: int64"
            ]
          },
          "metadata": {},
          "execution_count": 7
        }
      ]
    },
    {
      "cell_type": "code",
      "source": [
        "df['syllabus_id'].value_counts()"
      ],
      "metadata": {
        "colab": {
          "base_uri": "https://localhost:8080/"
        },
        "id": "wbgECSqUL2jV",
        "outputId": "50cd8c18-2b66-418d-b2a8-bc93ef903294"
      },
      "execution_count": 8,
      "outputs": [
        {
          "output_type": "execute_result",
          "data": {
            "text/plain": [
              "446       997\n",
              "4154      343\n",
              "395       337\n",
              "4183      328\n",
              "3790      305\n",
              "         ... \n",
              "734039      1\n",
              "730264      1\n",
              "756047      1\n",
              "700543      1\n",
              "731528      1\n",
              "Name: syllabus_id, Length: 6311, dtype: int64"
            ]
          },
          "metadata": {},
          "execution_count": 8
        }
      ]
    },
    {
      "cell_type": "code",
      "source": [
        "single_choice_ques_df = df[df['question_type'] == 'single choice question']\n",
        "subjective_ques_df = df[df['question_type'] == 'subjective_question']\n",
        "multiple_choice_ques_df = df[df['question_type'] == 'multiple choice question']\n",
        "integer_question = df[df['question_type'] == 'integer question']"
      ],
      "metadata": {
        "id": "iHDy3_Dm4RVG"
      },
      "execution_count": 9,
      "outputs": []
    },
    {
      "cell_type": "code",
      "execution_count": 10,
      "metadata": {
        "id": "k4faOXkjqNBS"
      },
      "outputs": [],
      "source": [
        "# Character length of a question\n",
        "df[\"len\"] = df[\"question\"].str.len()-1"
      ]
    },
    {
      "cell_type": "code",
      "execution_count": 11,
      "metadata": {
        "id": "qP3bCdG3qNKP"
      },
      "outputs": [],
      "source": [
        "# Number of words\n",
        "df[\"words\"] = df[\"question\"].str.strip().str.split().str.len()"
      ]
    },
    {
      "cell_type": "code",
      "execution_count": 12,
      "metadata": {
        "id": "PPHSaG2YqNM3"
      },
      "outputs": [],
      "source": [
        "# Number of common words\n",
        "\n",
        "def to_lower(d):\n",
        "  a = [[x.lower() for x in s] for s in d]\n",
        "  return a \n",
        "\n",
        "def common_words(row):\n",
        "    w1 = set(map(lambda word: word.lower().strip(), row['question1'].split(\" \")))\n",
        "    w2 = set(map(lambda word: word.lower().strip(), row['question2'].split(\" \")))    \n",
        "    return len(w1 & w2)\n",
        "\n",
        "def total_words(row):\n",
        "    w1 = set(map(lambda word: word.lower().strip(), row['question1'].split(\" \")))\n",
        "    w2 = set(map(lambda word: word.lower().strip(), row['question2'].split(\" \")))    \n",
        "    return (len(w1|w2))"
      ]
    },
    {
      "cell_type": "code",
      "execution_count": 13,
      "metadata": {
        "colab": {
          "base_uri": "https://localhost:8080/",
          "height": 417
        },
        "id": "q9xLjlaLqNTS",
        "outputId": "fe7a8641-120f-4459-f7d9-77f4ae374714"
      },
      "outputs": [
        {
          "output_type": "stream",
          "name": "stdout",
          "text": [
            "Minimum characters 1\n",
            "Maximum characters 4919\n",
            "Average number of characters 79\n"
          ]
        },
        {
          "output_type": "display_data",
          "data": {
            "text/plain": [
              "<Figure size 360x360 with 1 Axes>"
            ],
            "image/png": "[encoded data removed]"
          },
          "metadata": {
            "needs_background": "light"
          }
        }
      ],
      "source": [
        "# Question lengths statistics\n",
        "\n",
        "sns.displot(df['len'])\n",
        "print('Minimum characters',df['len'].min())\n",
        "print('Maximum characters',df['len'].max())\n",
        "print('Average number of characters',int(df['len'].mean()))"
      ]
    },
    {
      "cell_type": "code",
      "source": [
        "df"
      ],
      "metadata": {
        "colab": {
          "base_uri": "https://localhost:8080/",
          "height": 411
        },
        "id": "5V7OnrdpgDm-",
        "outputId": "62ef32a3-328a-4489-feec-59036802b6e8"
      },
      "execution_count": 14,
      "outputs": [
        {
          "output_type": "execute_result",
          "data": {
            "text/plain": [
              "        question_id                                           question  \\\n",
              "0           2073346         how many π bonds are present in ferrocene    \n",
              "1           2073324  what is covalency of chlorine atom in second e...   \n",
              "2           2073225  in solid x atoms goes to corner of the cube an...   \n",
              "3           2073215  calculate value of x y here x and y are the to...   \n",
              "4           2073202  in phosphorus acid if x is number of non bondi...   \n",
              "...             ...                                                ...   \n",
              "134426       420545  a dice is rolled thrice the probability of get...   \n",
              "134427       420544  a dice is rolled thrice the probability of get...   \n",
              "134428       420543                       subjective english question    \n",
              "134429       415580                       question subjective english    \n",
              "134430       415579                      subjective english questions    \n",
              "\n",
              "       syllabus_id                                             answer  \\\n",
              "0           700295                                                 a    \n",
              "1           698013                                                 a    \n",
              "2           700078                         No of x atoms 8 18 2 12 2    \n",
              "3           697895  stryde images 2022 04 11 202204110162130016496...   \n",
              "4           697895  stryde images 2022 04 11 202204119693370016496...   \n",
              "...            ...                                                ...   \n",
              "134426          -1                                         frac 5 24    \n",
              "134427          -1                                         frac 5 24    \n",
              "134428          -1                                 answer_subjective    \n",
              "134429          -1                           answer subjective hindi    \n",
              "134430          -1                           answer of this question    \n",
              "\n",
              "                 question_type  len  words  \n",
              "0          Subjective Question   41      8  \n",
              "1          Subjective Question   58     10  \n",
              "2          Subjective Question  126     25  \n",
              "3          Subjective Question  156     28  \n",
              "4          Subjective Question  143     32  \n",
              "...                        ...  ...    ...  \n",
              "134426  Single Choice Question  114     21  \n",
              "134427  Single Choice Question  114     21  \n",
              "134428     Subjective Question   27      3  \n",
              "134429     Subjective Question   27      3  \n",
              "134430     Subjective Question   28      3  \n",
              "\n",
              "[117237 rows x 7 columns]"
            ],
            "text/html": [
              "\n",
              "  <div id=\"df-eec313d9-f9a5-441d-a9ba-496eb3b36fde\">\n",
              "    <div class=\"colab-df-container\">\n",
              "      <div>\n",
              "<style scoped>\n",
              "    .dataframe tbody tr th:only-of-type {\n",
              "        vertical-align: middle;\n",
              "    }\n",
              "\n",
              "    .dataframe tbody tr th {\n",
              "        vertical-align: top;\n",
              "    }\n",
              "\n",
              "    .dataframe thead th {\n",
              "        text-align: right;\n",
              "    }\n",
              "</style>\n",
              "<table border=\"1\" class=\"dataframe\">\n",
              "  <thead>\n",
              "    <tr style=\"text-align: right;\">\n",
              "      <th></th>\n",
              "      <th>question_id</th>\n",
              "      <th>question</th>\n",
              "      <th>syllabus_id</th>\n",
              "      <th>answer</th>\n",
              "      <th>question_type</th>\n",
              "      <th>len</th>\n",
              "      <th>words</th>\n",
              "    </tr>\n",
              "  </thead>\n",
              "  <tbody>\n",
              "    <tr>\n",
              "      <th>0</th>\n",
              "      <td>2073346</td>\n",
              "      <td>how many π bonds are present in ferrocene</td>\n",
              "      <td>700295</td>\n",
              "      <td>a</td>\n",
              "      <td>Subjective Question</td>\n",
              "      <td>41</td>\n",
              "      <td>8</td>\n",
              "    </tr>\n",
              "    <tr>\n",
              "      <th>1</th>\n",
              "      <td>2073324</td>\n",
              "      <td>what is covalency of chlorine atom in second e...</td>\n",
              "      <td>698013</td>\n",
              "      <td>a</td>\n",
              "      <td>Subjective Question</td>\n",
              "      <td>58</td>\n",
              "      <td>10</td>\n",
              "    </tr>\n",
              "    <tr>\n",
              "      <th>2</th>\n",
              "      <td>2073225</td>\n",
              "      <td>in solid x atoms goes to corner of the cube an...</td>\n",
              "      <td>700078</td>\n",
              "      <td>No of x atoms 8 18 2 12 2</td>\n",
              "      <td>Subjective Question</td>\n",
              "      <td>126</td>\n",
              "      <td>25</td>\n",
              "    </tr>\n",
              "    <tr>\n",
              "      <th>3</th>\n",
              "      <td>2073215</td>\n",
              "      <td>calculate value of x y here x and y are the to...</td>\n",
              "      <td>697895</td>\n",
              "      <td>stryde images 2022 04 11 202204110162130016496...</td>\n",
              "      <td>Subjective Question</td>\n",
              "      <td>156</td>\n",
              "      <td>28</td>\n",
              "    </tr>\n",
              "    <tr>\n",
              "      <th>4</th>\n",
              "      <td>2073202</td>\n",
              "      <td>in phosphorus acid if x is number of non bondi...</td>\n",
              "      <td>697895</td>\n",
              "      <td>stryde images 2022 04 11 202204119693370016496...</td>\n",
              "      <td>Subjective Question</td>\n",
              "      <td>143</td>\n",
              "      <td>32</td>\n",
              "    </tr>\n",
              "    <tr>\n",
              "      <th>...</th>\n",
              "      <td>...</td>\n",
              "      <td>...</td>\n",
              "      <td>...</td>\n",
              "      <td>...</td>\n",
              "      <td>...</td>\n",
              "      <td>...</td>\n",
              "      <td>...</td>\n",
              "    </tr>\n",
              "    <tr>\n",
              "      <th>134426</th>\n",
              "      <td>420545</td>\n",
              "      <td>a dice is rolled thrice the probability of get...</td>\n",
              "      <td>-1</td>\n",
              "      <td>frac 5 24</td>\n",
              "      <td>Single Choice Question</td>\n",
              "      <td>114</td>\n",
              "      <td>21</td>\n",
              "    </tr>\n",
              "    <tr>\n",
              "      <th>134427</th>\n",
              "      <td>420544</td>\n",
              "      <td>a dice is rolled thrice the probability of get...</td>\n",
              "      <td>-1</td>\n",
              "      <td>frac 5 24</td>\n",
              "      <td>Single Choice Question</td>\n",
              "      <td>114</td>\n",
              "      <td>21</td>\n",
              "    </tr>\n",
              "    <tr>\n",
              "      <th>134428</th>\n",
              "      <td>420543</td>\n",
              "      <td>subjective english question</td>\n",
              "      <td>-1</td>\n",
              "      <td>answer_subjective</td>\n",
              "      <td>Subjective Question</td>\n",
              "      <td>27</td>\n",
              "      <td>3</td>\n",
              "    </tr>\n",
              "    <tr>\n",
              "      <th>134429</th>\n",
              "      <td>415580</td>\n",
              "      <td>question subjective english</td>\n",
              "      <td>-1</td>\n",
              "      <td>answer subjective hindi</td>\n",
              "      <td>Subjective Question</td>\n",
              "      <td>27</td>\n",
              "      <td>3</td>\n",
              "    </tr>\n",
              "    <tr>\n",
              "      <th>134430</th>\n",
              "      <td>415579</td>\n",
              "      <td>subjective english questions</td>\n",
              "      <td>-1</td>\n",
              "      <td>answer of this question</td>\n",
              "      <td>Subjective Question</td>\n",
              "      <td>28</td>\n",
              "      <td>3</td>\n",
              "    </tr>\n",
              "  </tbody>\n",
              "</table>\n",
              "<p>117237 rows × 7 columns</p>\n",
              "</div>\n",
              "      <button class=\"colab-df-convert\" onclick=\"convertToInteractive('df-eec313d9-f9a5-441d-a9ba-496eb3b36fde')\"\n",
              "              title=\"Convert this dataframe to an interactive table.\"\n",
              "              style=\"display:none;\">\n",
              "        \n",
              "  <svg xmlns=\"http://www.w3.org/2000/svg\" height=\"24px\"viewBox=\"0 0 24 24\"\n",
              "       width=\"24px\">\n",
              "    <path d=\"M0 0h24v24H0V0z\" fill=\"none\"/>\n",
              "    <path d=\"M18.56 5.44l.94 2.06.94-2.06 2.06-.94-2.06-.94-.94-2.06-.94 2.06-2.06.94zm-11 1L8.5 8.5l.94-2.06 2.06-.94-2.06-.94L8.5 2.5l-.94 2.06-2.06.94zm10 10l.94 2.06.94-2.06 2.06-.94-2.06-.94-.94-2.06-.94 2.06-2.06.94z\"/><path d=\"M17.41 7.96l-1.37-1.37c-.4-.4-.92-.59-1.43-.59-.52 0-1.04.2-1.43.59L10.3 9.45l-7.72 7.72c-.78.78-.78 2.05 0 2.83L4 21.41c.39.39.9.59 1.41.59.51 0 1.02-.2 1.41-.59l7.78-7.78 2.81-2.81c.8-.78.8-2.07 0-2.86zM5.41 20L4 18.59l7.72-7.72 1.47 1.35L5.41 20z\"/>\n",
              "  </svg>\n",
              "      </button>\n",
              "      \n",
              "  <style>\n",
              "    .colab-df-container {\n",
              "      display:flex;\n",
              "      flex-wrap:wrap;\n",
              "      gap: 12px;\n",
              "    }\n",
              "\n",
              "    .colab-df-convert {\n",
              "      background-color: #E8F0FE;\n",
              "      border: none;\n",
              "      border-radius: 50%;\n",
              "      cursor: pointer;\n",
              "      display: none;\n",
              "      fill: #1967D2;\n",
              "      height: 32px;\n",
              "      padding: 0 0 0 0;\n",
              "      width: 32px;\n",
              "    }\n",
              "\n",
              "    .colab-df-convert:hover {\n",
              "      background-color: #E2EBFA;\n",
              "      box-shadow: 0px 1px 2px rgba(60, 64, 67, 0.3), 0px 1px 3px 1px rgba(60, 64, 67, 0.15);\n",
              "      fill: #174EA6;\n",
              "    }\n",
              "\n",
              "    [theme=dark] .colab-df-convert {\n",
              "      background-color: #3B4455;\n",
              "      fill: #D2E3FC;\n",
              "    }\n",
              "\n",
              "    [theme=dark] .colab-df-convert:hover {\n",
              "      background-color: #434B5C;\n",
              "      box-shadow: 0px 1px 3px 1px rgba(0, 0, 0, 0.15);\n",
              "      filter: drop-shadow(0px 1px 2px rgba(0, 0, 0, 0.3));\n",
              "      fill: #FFFFFF;\n",
              "    }\n",
              "  </style>\n",
              "\n",
              "      <script>\n",
              "        const buttonEl =\n",
              "          document.querySelector('#df-eec313d9-f9a5-441d-a9ba-496eb3b36fde button.colab-df-convert');\n",
              "        buttonEl.style.display =\n",
              "          google.colab.kernel.accessAllowed ? 'block' : 'none';\n",
              "\n",
              "        async function convertToInteractive(key) {\n",
              "          const element = document.querySelector('#df-eec313d9-f9a5-441d-a9ba-496eb3b36fde');\n",
              "          const dataTable =\n",
              "            await google.colab.kernel.invokeFunction('convertToInteractive',\n",
              "                                                     [key], {});\n",
              "          if (!dataTable) return;\n",
              "\n",
              "          const docLinkHtml = 'Like what you see? Visit the ' +\n",
              "            '<a target=\"_blank\" href=https://colab.research.google.com/notebooks/data_table.ipynb>data table notebook</a>'\n",
              "            + ' to learn more about interactive tables.';\n",
              "          element.innerHTML = '';\n",
              "          dataTable['output_type'] = 'display_data';\n",
              "          await google.colab.output.renderOutput(dataTable, element);\n",
              "          const docLink = document.createElement('div');\n",
              "          docLink.innerHTML = docLinkHtml;\n",
              "          element.appendChild(docLink);\n",
              "        }\n",
              "      </script>\n",
              "    </div>\n",
              "  </div>\n",
              "  "
            ]
          },
          "metadata": {},
          "execution_count": 14
        }
      ]
    },
    {
      "cell_type": "code",
      "source": [
        "print(len(df))"
      ],
      "metadata": {
        "colab": {
          "base_uri": "https://localhost:8080/"
        },
        "id": "MSEP3DEgMUio",
        "outputId": "0b29810e-cd0f-4574-e72a-b65e13643d7d"
      },
      "execution_count": 15,
      "outputs": [
        {
          "output_type": "stream",
          "name": "stdout",
          "text": [
            "117237\n"
          ]
        }
      ]
    },
    {
      "cell_type": "code",
      "execution_count": 16,
      "metadata": {
        "colab": {
          "base_uri": "https://localhost:8080/"
        },
        "id": "-OSMB5A3qNVO",
        "outputId": "a7e731ad-5caa-48e5-b96d-b98033a715a0"
      },
      "outputs": [
        {
          "output_type": "stream",
          "name": "stdout",
          "text": [
            "117131\n"
          ]
        }
      ],
      "source": [
        "# Questions with len = 1,2,3 Are they of any use ?\n",
        "df = df.drop(df[df['len'] <= 5].index)\n",
        "print(len(df))"
      ]
    },
    {
      "cell_type": "code",
      "execution_count": 17,
      "metadata": {
        "colab": {
          "base_uri": "https://localhost:8080/"
        },
        "id": "DcdG5gr4qNbj",
        "outputId": "a313a09d-357e-45ff-c035-090529fd90db"
      },
      "outputs": [
        {
          "output_type": "stream",
          "name": "stdout",
          "text": [
            "117069\n"
          ]
        }
      ],
      "source": [
        "# Questions with words = 1,2,3 Are they of any use, seems useful ? yes some seems useful\n",
        "df = df.drop(df[df['words'] < 2].index)\n",
        "print(len(df))"
      ]
    },
    {
      "cell_type": "code",
      "source": [
        "df=df.reset_index()\n",
        "df = df.drop('index', axis = 1)"
      ],
      "metadata": {
        "id": "QPsyHAOP5ybI"
      },
      "execution_count": 18,
      "outputs": []
    },
    {
      "cell_type": "code",
      "source": [
        "to_keep = []\n",
        "             #  getting rid of sentences like \"h e l l o w o r l d\"\n",
        "             #  also store the following types of questions: \"what is incorrect \"\n",
        "             #  \"what is not correct \"\n",
        "             #  \"among the following\"\n",
        "\n",
        "for index, row in df.iterrows():\n",
        "  ques = row['question'].lower()\n",
        "  n_words = len(ques.split())\n",
        "  len_sent = len(ques)\n",
        "\n",
        "  res = True\n",
        "  if n_words/len_sent*100 > 40:\n",
        "    res = False\n",
        "\n",
        "  if ques.find(\"among\") != -1 and ques.find(\"following\") != -1 :\n",
        "    res = False\n",
        "  if ques.find(\"what is\") != -1 and ques.find(\"correct\") != -1:\n",
        "    res = False\n",
        "  if ques.find(\"what is\") != -1 and  ques.find(\"incorrect\") != -1:\n",
        "    res = False\n",
        "\n",
        "  to_keep.append(res)"
      ],
      "metadata": {
        "id": "ei44HQHgSGtq"
      },
      "execution_count": 19,
      "outputs": []
    },
    {
      "cell_type": "code",
      "source": [
        "len(df)"
      ],
      "metadata": {
        "colab": {
          "base_uri": "https://localhost:8080/"
        },
        "id": "gyWqVOfGTMA0",
        "outputId": "14d1ebde-61f5-4ec8-cf65-3e7822e85006"
      },
      "execution_count": 20,
      "outputs": [
        {
          "output_type": "execute_result",
          "data": {
            "text/plain": [
              "117069"
            ]
          },
          "metadata": {},
          "execution_count": 20
        }
      ]
    },
    {
      "cell_type": "code",
      "source": [
        "df = df[to_keep]"
      ],
      "metadata": {
        "id": "8qnLSxq5SobM"
      },
      "execution_count": 21,
      "outputs": []
    },
    {
      "cell_type": "code",
      "source": [
        "df.to_csv(\"drive/My Drive/Extramarks Project/Dataset versions/JEE-ans-no_num-no_fillBlank-replaced_ofthefollowing-removed_one_letter_sent_also.csv\")"
      ],
      "metadata": {
        "id": "hQZ-OlzTWyh3"
      },
      "execution_count": 22,
      "outputs": []
    },
    {
      "cell_type": "code",
      "execution_count": 23,
      "metadata": {
        "colab": {
          "base_uri": "https://localhost:8080/"
        },
        "id": "z46EjevK2omE",
        "outputId": "34f5a08e-b0ce-4998-ac43-ecf4c68edd3e"
      },
      "outputs": [
        {
          "output_type": "stream",
          "name": "stderr",
          "text": [
            "[nltk_data] Downloading package punkt to /root/nltk_data...\n",
            "[nltk_data]   Package punkt is already up-to-date!\n"
          ]
        }
      ],
      "source": [
        "from collections import OrderedDict\n",
        "import operator\n",
        "import nltk\n",
        "from nltk import bigrams, trigrams, word_tokenize\n",
        "from collections import Counter, defaultdict\n",
        "nltk.download('punkt')\n",
        "from re import search"
      ]
    },
    {
      "cell_type": "code",
      "execution_count": 24,
      "metadata": {
        "id": "_tuI88qhyzFp"
      },
      "outputs": [],
      "source": [
        "ques = df['question'].tolist()\n",
        "ans = df['answer'].tolist()\n",
        "types = df['question_type'].tolist()\n",
        "\n",
        "appended = []\n",
        "\n",
        "for i in range(len(ques)):\n",
        "    ques[i] = ques[i].lower()\n",
        "    ans[i] = str(ans[i]).lower()\n",
        "    types[i] = types[i].lower()"
      ]
    },
    {
      "cell_type": "code",
      "source": [
        "def A(sent) :\n",
        "  return (search(\"following\",sent) or search(\"select\",sent) or search(\"choose\",sent))!=None\n",
        "\n",
        "def B(sent) :\n",
        "  return (search(\"statement\",sent) or search(\"option\",sent) or search(\"compound\",sent) or search(\"match\",sent) or search(\"order\",sent)) != None\n",
        "\n",
        "def C(sent) :\n",
        "  options = [\"correct\" ,\"incorrect\", \"true\", \"false\", \"wrong\", \"least\", \"most\"]\n",
        "  for i in options :\n",
        "    if(search(i,sent)):\n",
        "      return 1 \n",
        "  return 0\n",
        "\n",
        "# def D(qtype) :\n",
        "#   return qtype == \"single choice question\" or qtype == \"multiple choice question\" \n",
        "\n",
        "def E(sent) :\n",
        "  if (search(\"which of the following\",sent)):\n",
        "    return 1\n",
        "  return 0\n",
        "\n",
        "def need_to_append_answer(sent,qtype) :\n",
        "  return (((A(sent) + B(sent) + C(sent) >= 2)) or E(sent))\n",
        "\n",
        "for i in range(len(ques)):\n",
        "    if(need_to_append_answer(ques[i],types[i])):\n",
        "      ques[i] = ques[i]+\" \"+ans[i] \n",
        "      appended.append(1)\n",
        "    else:\n",
        "      appended.append(0)\n",
        "\n",
        "print(len(appended))\n",
        "print(len(pd.Series(appended)[pd.Series(appended) == 1])/len(appended))"
      ],
      "metadata": {
        "colab": {
          "base_uri": "https://localhost:8080/"
        },
        "id": "SFejfPzBNB6D",
        "outputId": "0d62c87d-db76-4ef8-f399-5f4f89154bd3"
      },
      "execution_count": 25,
      "outputs": [
        {
          "output_type": "stream",
          "name": "stdout",
          "text": [
            "114803\n",
            "0.055460223164899874\n"
          ]
        }
      ]
    },
    {
      "cell_type": "code",
      "execution_count": 26,
      "metadata": {
        "id": "HhCNdIwo_0oY"
      },
      "outputs": [],
      "source": [
        "unigrams = []\n",
        "\n",
        "for sent in ques :\n",
        "  unigrams.append(set(nltk.word_tokenize(sent)))"
      ]
    },
    {
      "cell_type": "code",
      "source": [
        "grouped = df.groupby('syllabus_id')"
      ],
      "metadata": {
        "id": "NGxx_xggRbYf"
      },
      "execution_count": 27,
      "outputs": []
    },
    {
      "cell_type": "markdown",
      "source": [
        "There are 6304 categories"
      ],
      "metadata": {
        "id": "8IdspcwntiUs"
      }
    },
    {
      "cell_type": "code",
      "source": [
        "df['syllabus_id'].value_counts()"
      ],
      "metadata": {
        "colab": {
          "base_uri": "https://localhost:8080/"
        },
        "id": "V54b7L9Ktbmu",
        "outputId": "167e5d05-a94f-4c36-f108-5968e0ceb670"
      },
      "execution_count": 28,
      "outputs": [
        {
          "output_type": "execute_result",
          "data": {
            "text/plain": [
              "446       988\n",
              "4154      343\n",
              "395       333\n",
              "4183      326\n",
              "4147      293\n",
              "         ... \n",
              "700467      1\n",
              "756046      1\n",
              "733270      1\n",
              "733264      1\n",
              "449203      1\n",
              "Name: syllabus_id, Length: 6200, dtype: int64"
            ]
          },
          "metadata": {},
          "execution_count": 28
        }
      ]
    },
    {
      "cell_type": "markdown",
      "source": [
        "#### Taking attention of syllabus_id"
      ],
      "metadata": {
        "id": "9sI_KKBLXBY7"
      }
    },
    {
      "cell_type": "code",
      "source": [
        "iteration = 1\n",
        "threshold = 0.7\n",
        "req_pairs = []\n",
        "for name, group in grouped:\n",
        "  if iteration < 4:\n",
        "    iteration+=1\n",
        "    continue\n",
        "  print(\"Name: \", name)\n",
        "  print(\"Iteraiton: \", iteration)\n",
        "  if iteration > 10:\n",
        "    break\n",
        "  sz= len(group)\n",
        "  for i in range(0,sz-1):\n",
        "    s1 = set(nltk.word_tokenize(group.iloc[i]['question']))\n",
        "    # print(\"s1: \", s1)\n",
        "    for j in range(i+1,sz):\n",
        "      s2 = set(nltk.word_tokenize(group.iloc[j]['question']))\n",
        "      # print(\"s2: \", s2)\n",
        "      union = len(s1|s2)\n",
        "      common = len(s1&s2)\n",
        "      jaccard_sim =  common/union\n",
        "      if(jaccard_sim >= threshold):\n",
        "        req_pairs.append([\n",
        "              group.iloc[i]['syllabus_id'],\n",
        "              group.iloc[i]['question'],\n",
        "              group.iloc[j]['question'],\n",
        "              group.iloc[i]['question_id'],\n",
        "              group.iloc[j]['question_id']\n",
        "        ])\n",
        "  iteration+=1"
      ],
      "metadata": {
        "colab": {
          "base_uri": "https://localhost:8080/"
        },
        "id": "CRJdDNeiRbJJ",
        "outputId": "7d024e8a-4da2-40ef-f65f-bedb95cfcf1a"
      },
      "execution_count": 29,
      "outputs": [
        {
          "output_type": "stream",
          "name": "stdout",
          "text": [
            "Name:  120426\n",
            "Iteraiton:  4\n",
            "Name:  13346\n",
            "Iteraiton:  5\n",
            "Name:  133762\n",
            "Iteraiton:  6\n",
            "Name:  133907\n",
            "Iteraiton:  7\n",
            "Name:  133919\n",
            "Iteraiton:  8\n",
            "Name:  135222\n",
            "Iteraiton:  9\n",
            "Name:  14530\n",
            "Iteraiton:  10\n",
            "Name:  14537\n",
            "Iteraiton:  11\n"
          ]
        }
      ]
    },
    {
      "cell_type": "code",
      "source": [
        "req_pairs_df = pd.DataFrame(req_pairs, columns = ['syllabus_id','ques1', 'ques2', 'ques1_id', 'ques2_id'])\n",
        "req_pairs_df.to_csv(\"drive/My Drive/Extramarks Project/Dataset versions/Model1-Semantic/Same_repository_id.csv\")\n",
        "req_pairs_df"
      ],
      "metadata": {
        "colab": {
          "base_uri": "https://localhost:8080/",
          "height": 904
        },
        "id": "FM6mDAN1xwJi",
        "outputId": "aaee07a2-b788-4c20-c770-d7fce43a3f48"
      },
      "execution_count": 30,
      "outputs": [
        {
          "output_type": "execute_result",
          "data": {
            "text/plain": [
              "    syllabus_id                                              ques1  \\\n",
              "0         13346  if a horizontal line intersects the graph of a...   \n",
              "1         13346                    what is a horizontal line test    \n",
              "2         13346                           define inverse function    \n",
              "3         13346                                what is invertible    \n",
              "4         13346  what is the condition for f to have a valid in...   \n",
              "..          ...                                                ...   \n",
              "120       14530  what is the difference between speed and veloc...   \n",
              "121       14530  define the terms i distance and ii displacemen...   \n",
              "122       14530  define i scalar quantities ii vector quantitie...   \n",
              "123       14530                         define non uniform motion    \n",
              "124       14530  what is the difference between acceleration an...   \n",
              "\n",
              "                                                 ques2  ques1_id  ques2_id  \n",
              "0    if a function is one to one then a horizontal ...   1227794   1225002  \n",
              "1                    what is the horizontal line test     897706    855754  \n",
              "2                             define inverse function     855758    850316  \n",
              "3                                  what is invertible     855756    850317  \n",
              "4    what is the condition for f to have a valid in...    855755    850318  \n",
              "..                                                 ...       ...       ...  \n",
              "120  what is the difference between speed and veloc...    660435   2023025  \n",
              "121  define the terms i distance and ii displacemen...    660419   2023054  \n",
              "122  define i scalar quantities ii vector quantitie...    660409   1578518  \n",
              "123                             define uniform motion     660397    660275  \n",
              "124  what is the difference between acceleration an...   2067474   2023050  \n",
              "\n",
              "[125 rows x 5 columns]"
            ],
            "text/html": [
              "\n",
              "  <div id=\"df-65ca30a5-0001-4e56-911b-db549b80f69e\">\n",
              "    <div class=\"colab-df-container\">\n",
              "      <div>\n",
              "<style scoped>\n",
              "    .dataframe tbody tr th:only-of-type {\n",
              "        vertical-align: middle;\n",
              "    }\n",
              "\n",
              "    .dataframe tbody tr th {\n",
              "        vertical-align: top;\n",
              "    }\n",
              "\n",
              "    .dataframe thead th {\n",
              "        text-align: right;\n",
              "    }\n",
              "</style>\n",
              "<table border=\"1\" class=\"dataframe\">\n",
              "  <thead>\n",
              "    <tr style=\"text-align: right;\">\n",
              "      <th></th>\n",
              "      <th>syllabus_id</th>\n",
              "      <th>ques1</th>\n",
              "      <th>ques2</th>\n",
              "      <th>ques1_id</th>\n",
              "      <th>ques2_id</th>\n",
              "    </tr>\n",
              "  </thead>\n",
              "  <tbody>\n",
              "    <tr>\n",
              "      <th>0</th>\n",
              "      <td>13346</td>\n",
              "      <td>if a horizontal line intersects the graph of a...</td>\n",
              "      <td>if a function is one to one then a horizontal ...</td>\n",
              "      <td>1227794</td>\n",
              "      <td>1225002</td>\n",
              "    </tr>\n",
              "    <tr>\n",
              "      <th>1</th>\n",
              "      <td>13346</td>\n",
              "      <td>what is a horizontal line test</td>\n",
              "      <td>what is the horizontal line test</td>\n",
              "      <td>897706</td>\n",
              "      <td>855754</td>\n",
              "    </tr>\n",
              "    <tr>\n",
              "      <th>2</th>\n",
              "      <td>13346</td>\n",
              "      <td>define inverse function</td>\n",
              "      <td>define inverse function</td>\n",
              "      <td>855758</td>\n",
              "      <td>850316</td>\n",
              "    </tr>\n",
              "    <tr>\n",
              "      <th>3</th>\n",
              "      <td>13346</td>\n",
              "      <td>what is invertible</td>\n",
              "      <td>what is invertible</td>\n",
              "      <td>855756</td>\n",
              "      <td>850317</td>\n",
              "    </tr>\n",
              "    <tr>\n",
              "      <th>4</th>\n",
              "      <td>13346</td>\n",
              "      <td>what is the condition for f to have a valid in...</td>\n",
              "      <td>what is the condition for f to have a valid in...</td>\n",
              "      <td>855755</td>\n",
              "      <td>850318</td>\n",
              "    </tr>\n",
              "    <tr>\n",
              "      <th>...</th>\n",
              "      <td>...</td>\n",
              "      <td>...</td>\n",
              "      <td>...</td>\n",
              "      <td>...</td>\n",
              "      <td>...</td>\n",
              "    </tr>\n",
              "    <tr>\n",
              "      <th>120</th>\n",
              "      <td>14530</td>\n",
              "      <td>what is the difference between speed and veloc...</td>\n",
              "      <td>what is the difference between speed and veloc...</td>\n",
              "      <td>660435</td>\n",
              "      <td>2023025</td>\n",
              "    </tr>\n",
              "    <tr>\n",
              "      <th>121</th>\n",
              "      <td>14530</td>\n",
              "      <td>define the terms i distance and ii displacemen...</td>\n",
              "      <td>define the terms i distance and ii displacemen...</td>\n",
              "      <td>660419</td>\n",
              "      <td>2023054</td>\n",
              "    </tr>\n",
              "    <tr>\n",
              "      <th>122</th>\n",
              "      <td>14530</td>\n",
              "      <td>define i scalar quantities ii vector quantitie...</td>\n",
              "      <td>define i scalar quantities ii vector quantitie...</td>\n",
              "      <td>660409</td>\n",
              "      <td>1578518</td>\n",
              "    </tr>\n",
              "    <tr>\n",
              "      <th>123</th>\n",
              "      <td>14530</td>\n",
              "      <td>define non uniform motion</td>\n",
              "      <td>define uniform motion</td>\n",
              "      <td>660397</td>\n",
              "      <td>660275</td>\n",
              "    </tr>\n",
              "    <tr>\n",
              "      <th>124</th>\n",
              "      <td>14530</td>\n",
              "      <td>what is the difference between acceleration an...</td>\n",
              "      <td>what is the difference between acceleration an...</td>\n",
              "      <td>2067474</td>\n",
              "      <td>2023050</td>\n",
              "    </tr>\n",
              "  </tbody>\n",
              "</table>\n",
              "<p>125 rows × 5 columns</p>\n",
              "</div>\n",
              "      <button class=\"colab-df-convert\" onclick=\"convertToInteractive('df-65ca30a5-0001-4e56-911b-db549b80f69e')\"\n",
              "              title=\"Convert this dataframe to an interactive table.\"\n",
              "              style=\"display:none;\">\n",
              "        \n",
              "  <svg xmlns=\"http://www.w3.org/2000/svg\" height=\"24px\"viewBox=\"0 0 24 24\"\n",
              "       width=\"24px\">\n",
              "    <path d=\"M0 0h24v24H0V0z\" fill=\"none\"/>\n",
              "    <path d=\"M18.56 5.44l.94 2.06.94-2.06 2.06-.94-2.06-.94-.94-2.06-.94 2.06-2.06.94zm-11 1L8.5 8.5l.94-2.06 2.06-.94-2.06-.94L8.5 2.5l-.94 2.06-2.06.94zm10 10l.94 2.06.94-2.06 2.06-.94-2.06-.94-.94-2.06-.94 2.06-2.06.94z\"/><path d=\"M17.41 7.96l-1.37-1.37c-.4-.4-.92-.59-1.43-.59-.52 0-1.04.2-1.43.59L10.3 9.45l-7.72 7.72c-.78.78-.78 2.05 0 2.83L4 21.41c.39.39.9.59 1.41.59.51 0 1.02-.2 1.41-.59l7.78-7.78 2.81-2.81c.8-.78.8-2.07 0-2.86zM5.41 20L4 18.59l7.72-7.72 1.47 1.35L5.41 20z\"/>\n",
              "  </svg>\n",
              "      </button>\n",
              "      \n",
              "  <style>\n",
              "    .colab-df-container {\n",
              "      display:flex;\n",
              "      flex-wrap:wrap;\n",
              "      gap: 12px;\n",
              "    }\n",
              "\n",
              "    .colab-df-convert {\n",
              "      background-color: #E8F0FE;\n",
              "      border: none;\n",
              "      border-radius: 50%;\n",
              "      cursor: pointer;\n",
              "      display: none;\n",
              "      fill: #1967D2;\n",
              "      height: 32px;\n",
              "      padding: 0 0 0 0;\n",
              "      width: 32px;\n",
              "    }\n",
              "\n",
              "    .colab-df-convert:hover {\n",
              "      background-color: #E2EBFA;\n",
              "      box-shadow: 0px 1px 2px rgba(60, 64, 67, 0.3), 0px 1px 3px 1px rgba(60, 64, 67, 0.15);\n",
              "      fill: #174EA6;\n",
              "    }\n",
              "\n",
              "    [theme=dark] .colab-df-convert {\n",
              "      background-color: #3B4455;\n",
              "      fill: #D2E3FC;\n",
              "    }\n",
              "\n",
              "    [theme=dark] .colab-df-convert:hover {\n",
              "      background-color: #434B5C;\n",
              "      box-shadow: 0px 1px 3px 1px rgba(0, 0, 0, 0.15);\n",
              "      filter: drop-shadow(0px 1px 2px rgba(0, 0, 0, 0.3));\n",
              "      fill: #FFFFFF;\n",
              "    }\n",
              "  </style>\n",
              "\n",
              "      <script>\n",
              "        const buttonEl =\n",
              "          document.querySelector('#df-65ca30a5-0001-4e56-911b-db549b80f69e button.colab-df-convert');\n",
              "        buttonEl.style.display =\n",
              "          google.colab.kernel.accessAllowed ? 'block' : 'none';\n",
              "\n",
              "        async function convertToInteractive(key) {\n",
              "          const element = document.querySelector('#df-65ca30a5-0001-4e56-911b-db549b80f69e');\n",
              "          const dataTable =\n",
              "            await google.colab.kernel.invokeFunction('convertToInteractive',\n",
              "                                                     [key], {});\n",
              "          if (!dataTable) return;\n",
              "\n",
              "          const docLinkHtml = 'Like what you see? Visit the ' +\n",
              "            '<a target=\"_blank\" href=https://colab.research.google.com/notebooks/data_table.ipynb>data table notebook</a>'\n",
              "            + ' to learn more about interactive tables.';\n",
              "          element.innerHTML = '';\n",
              "          dataTable['output_type'] = 'display_data';\n",
              "          await google.colab.output.renderOutput(dataTable, element);\n",
              "          const docLink = document.createElement('div');\n",
              "          docLink.innerHTML = docLinkHtml;\n",
              "          element.appendChild(docLink);\n",
              "        }\n",
              "      </script>\n",
              "    </div>\n",
              "  </div>\n",
              "  "
            ]
          },
          "metadata": {},
          "execution_count": 30
        }
      ]
    },
    {
      "cell_type": "code",
      "source": [
        "len(df)"
      ],
      "metadata": {
        "colab": {
          "base_uri": "https://localhost:8080/"
        },
        "id": "zYSSMgkh5UuF",
        "outputId": "e6589a35-a3b4-4029-aef4-134f81a248a9"
      },
      "execution_count": 31,
      "outputs": [
        {
          "output_type": "execute_result",
          "data": {
            "text/plain": [
              "114803"
            ]
          },
          "metadata": {},
          "execution_count": 31
        }
      ]
    },
    {
      "cell_type": "markdown",
      "source": [
        "#### Ignoring syllabus_ids"
      ],
      "metadata": {
        "id": "DTJtAH_ZXFsc"
      }
    },
    {
      "cell_type": "code",
      "source": [
        "# df"
      ],
      "metadata": {
        "id": "6tY6yrTc5afF"
      },
      "execution_count": 32,
      "outputs": []
    },
    {
      "cell_type": "code",
      "source": [
        "ALL_question_ids = list(df['question_id'])\n",
        "ALL_syllabus_id = list(df['syllabus_id'])"
      ],
      "metadata": {
        "id": "bxN-I3Xr1HwM"
      },
      "execution_count": 33,
      "outputs": []
    },
    {
      "cell_type": "code",
      "source": [
        "ALL_syllabus_id[44]"
      ],
      "metadata": {
        "colab": {
          "base_uri": "https://localhost:8080/",
          "height": 34
        },
        "id": "OR9nS5kN5IJ_",
        "outputId": "42561f68-6ee9-4e52-beb3-790105323f27"
      },
      "execution_count": 34,
      "outputs": [
        {
          "output_type": "execute_result",
          "data": {
            "text/plain": [
              "'700313'"
            ],
            "application/vnd.google.colaboratory.intrinsic+json": {
              "type": "string"
            }
          },
          "metadata": {},
          "execution_count": 34
        }
      ]
    },
    {
      "cell_type": "code",
      "source": [
        "len(ALL_syllabus_id)"
      ],
      "metadata": {
        "colab": {
          "base_uri": "https://localhost:8080/"
        },
        "id": "IqbNuSmF4uvK",
        "outputId": "dcdcc1b3-5592-446e-f7ae-aa9f36fc10f1"
      },
      "execution_count": 35,
      "outputs": [
        {
          "output_type": "execute_result",
          "data": {
            "text/plain": [
              "114803"
            ]
          },
          "metadata": {},
          "execution_count": 35
        }
      ]
    },
    {
      "cell_type": "code",
      "execution_count": null,
      "metadata": {
        "id": "4sIvQsCj-3do",
        "colab": {
          "base_uri": "https://localhost:8080/"
        },
        "outputId": "a9f9f84f-1de7-4b6b-bae6-bd2e2a602933"
      },
      "outputs": [
        {
          "output_type": "stream",
          "name": "stderr",
          "text": [
            " 12%|█▏        | 2381/20000 [09:34<1:14:49,  3.92it/s]"
          ]
        }
      ],
      "source": [
        "sz = len(df)\n",
        "req_pairs2 = []\n",
        "threshold = 0.7\n",
        "for i in tqdm(range(0,20000)):\n",
        "  s1 = unigrams[i]\n",
        "  for j in range(i+1,sz):\n",
        "    # if((j % 10000) == 0):\n",
        "    #   print(\"   J: \", j)\n",
        "    s2 = unigrams[j]\n",
        "    union = len(s1|s2)\n",
        "    common = len(s1&s2)\n",
        "    jaccard_sim =  common/union\n",
        "    if(jaccard_sim >= threshold):\n",
        "      i2 = (ALL_syllabus_id[i],ALL_syllabus_id[j])\n",
        "      j2 = (ques[i],ques[j])\n",
        "      k2 = (ALL_question_ids[i], ALL_question_ids[j])\n",
        "      req_pairs2.append([ALL_syllabus_id[i],ALL_syllabus_id[j],ques[i],ques[j],ALL_question_ids[i], ALL_question_ids[j]])"
      ]
    },
    {
      "cell_type": "code",
      "execution_count": null,
      "metadata": {
        "id": "OBl8D2lhHYsU"
      },
      "outputs": [],
      "source": [
        "duplicate_pairs = pd.DataFrame(req_pairs2, columns = ['syllabus_id1','syllabus_id2', 'ques1','ques2','question_id1','question_id2'])\n",
        "duplicate_pairs.to_csv(\"drive/My Drive/Extramarks Project/Dataset versions/Model1-Semantic/Jacc_sim_ignore_syllabus.csv\")\n",
        "duplicate_pairs"
      ]
    },
    {
      "cell_type": "markdown",
      "metadata": {
        "id": "9u14mhgRa9LB"
      },
      "source": [
        "### **Word share / Jaccard Similarity Plot**"
      ]
    },
    {
      "cell_type": "code",
      "execution_count": null,
      "metadata": {
        "id": "rOYG4yREqNgM"
      },
      "outputs": [],
      "source": [
        "sns.distplot(df[df['is_duplicate'] == 0]['word_share'],label='non duplicate')\n",
        "sns.distplot(df[df['is_duplicate'] == 1]['word_share'],label='duplicate')\n",
        "plt.legend()\n",
        "plt.show()"
      ]
    },
    {
      "cell_type": "markdown",
      "metadata": {
        "id": "_yAv6RE5iW_i"
      },
      "source": [
        "## **Some data eyeballing to the cases where `word share is high` but still they are `not duplicates`.**\n",
        "\n",
        "- **Note** : `Word_share = Jaccard Similarity (JC)`\n",
        "\n",
        "- Number of shared terms over the number of all unique terms in both strings \n",
        "\n",
        "\n",
        "\n"
      ]
    },
    {
      "cell_type": "code",
      "execution_count": null,
      "metadata": {
        "id": "5rD9WwayhLMn"
      },
      "outputs": [],
      "source": [
        "vis_df = df.loc[(df['word_share'] == 1) & (df['is_duplicate']==0)]\n",
        "vis_df[['question1','question2','word_share','is_duplicate']]"
      ]
    },
    {
      "cell_type": "markdown",
      "metadata": {
        "id": "__W00Bbcl-Fd"
      },
      "source": [
        "⚡ Though questions have `Exact same (JC = 1)` vocabulary but `ordering` changes the meaning completely. This is where sementic nature is required to identify duplicates better.  \n",
        "\n",
        "> Example : \n",
        "> - a) What kind of Asian guys do White girls like ?\n",
        "> - b) What kind of Asian girls do White guys like ?\n",
        "\n",
        "> Though some labels I feel are not appropriate and they should be duplicate indeed.\n",
        "> - a) Which laptop I should buy ?\n",
        "> - b) Which laptop should I buy ?"
      ]
    },
    {
      "cell_type": "code",
      "execution_count": null,
      "metadata": {
        "id": "eNkfcMnMjJVs"
      },
      "outputs": [],
      "source": [
        "vis_df = df.loc[(df['word_share'] >= 0.9) & (df['is_duplicate']==0)]\n",
        "vis_df[['question1','question2','word_share','is_duplicate']]\n",
        "\n",
        "# Use inetractive table and sort acc to word_share values to see 0.9 word_share values first"
      ]
    },
    {
      "cell_type": "markdown",
      "metadata": {
        "id": "VKUGcO0sqjXT"
      },
      "source": [
        "⚡ Though questions have `High word_share(JC)` vocabulary but a change of `Keyword` in the question changes it meaning.  \n",
        "\n",
        "> Example : Negation sentences \n",
        "> - a) Who are the best science reporters not writing in English ?\n",
        "> - b) Who are the best science reporters writing in English ?\n",
        "\n",
        "> Example : Key noun is different \n",
        "> - a) How does a typical day in IIM C pass by ?\n",
        "> - b) How does a typical day in IIM A pass by ?\n",
        "\n",
        "> Example : More specification gets added\n",
        "> - a) How much does it cost to study in Canada ?\n",
        "> - b) How much does it cost to study medicine in Canada ?"
      ]
    },
    {
      "cell_type": "code",
      "execution_count": null,
      "metadata": {
        "id": "rX8z_gqKjJSe"
      },
      "outputs": [],
      "source": [
        "# Some more cases where data is lexically similar but not duplicates\n",
        "\n",
        "vis_df = df.loc[(df['word_share'] >= 0.75) & (df['is_duplicate']==0)]\n",
        "vis_df[['question1','question2','word_share','is_duplicate']]"
      ]
    },
    {
      "cell_type": "markdown",
      "metadata": {
        "id": "WfMAWm2etlVj"
      },
      "source": [
        "⚡ Though questions have `Moderately high word_share(JC)` but a change of `Keyword` in the question changes it meaning.  \n",
        "\n",
        "- **Observation** - In this chart we see short sentences whereas earlier there were long sentences, that's because changing a single word in small sentences drops down the Jaccard similarity more (Obvious though)."
      ]
    },
    {
      "cell_type": "code",
      "execution_count": null,
      "metadata": {
        "id": "k5T_MxxAwEOJ"
      },
      "outputs": [],
      "source": [
        "# More non-duplicate pairs visualization\n",
        "\n",
        "threshold = 0.4\n",
        "df.loc[(df['word_share'] >= threshold)][:200]\n"
      ]
    },
    {
      "cell_type": "markdown",
      "metadata": {
        "id": "ve-AvDOMvL8q"
      },
      "source": [
        "## **Some data eyeballing to the cases where `word share is low` but still they are `duplicates`.**"
      ]
    },
    {
      "cell_type": "code",
      "execution_count": null,
      "metadata": {
        "id": "iuSPPXxgjJOt"
      },
      "outputs": [],
      "source": [
        "vis_df = df.loc[(df['word_share'] <= 0.8) & (df['is_duplicate']==1)]\n",
        "vis_df[['question1','question2','word_share','is_duplicate']][:1000]"
      ]
    },
    {
      "cell_type": "markdown",
      "metadata": {
        "id": "W41x2T-5jILu"
      },
      "source": [
        "What inference can we make from above ?"
      ]
    },
    {
      "cell_type": "code",
      "execution_count": null,
      "metadata": {
        "id": "oHfFZcD3lCop"
      },
      "outputs": [],
      "source": [
        "# def Unigram_distance(dataset):\n",
        "\n",
        "#   model = defaultdict(lambda : 0)\n",
        "#   total_count = 0 \n",
        "#   for sentence in dataset:\n",
        "#     sentence = nltk.word_tokenize(sentence)\n",
        "#     for w1 in sentence:\n",
        "#       model[w1] += 1\n",
        "#       total_count += 1 ;\n",
        "\n",
        "#   for w1 in model:\n",
        "#       model[w1] /= total_count\n",
        "  \n",
        "#   return model"
      ]
    },
    {
      "cell_type": "code",
      "execution_count": null,
      "metadata": {
        "id": "2JnSjGbf5Mco"
      },
      "outputs": [],
      "source": [
        "profile = ProfileReport(df, title=\"Quora\", html={'style':{'full_width':True}})"
      ]
    },
    {
      "cell_type": "code",
      "execution_count": null,
      "metadata": {
        "id": "s4SmfFHR5MaQ"
      },
      "outputs": [],
      "source": [
        "profile.to_notebook_iframe()"
      ]
    },
    {
      "cell_type": "code",
      "execution_count": null,
      "metadata": {
        "id": "3AYM14uw5MUZ"
      },
      "outputs": [],
      "source": [
        ""
      ]
    },
    {
      "cell_type": "code",
      "execution_count": null,
      "metadata": {
        "id": "y9ho3rH75MOj"
      },
      "outputs": [],
      "source": [
        ""
      ]
    },
    {
      "cell_type": "code",
      "execution_count": null,
      "metadata": {
        "id": "qJprwoNW5MLq"
      },
      "outputs": [],
      "source": [
        ""
      ]
    },
    {
      "cell_type": "code",
      "execution_count": null,
      "metadata": {
        "id": "rSGc4Fy05MII"
      },
      "outputs": [],
      "source": [
        ""
      ]
    },
    {
      "cell_type": "code",
      "execution_count": null,
      "metadata": {
        "id": "XnbaqsLL5MF6"
      },
      "outputs": [],
      "source": [
        "# Preprocessing - ? se pehle space daaldo or remove it"
      ]
    },
    {
      "cell_type": "code",
      "execution_count": null,
      "metadata": {
        "id": "GvT9i6mq5MCU"
      },
      "outputs": [],
      "source": [
        ""
      ]
    },
    {
      "cell_type": "code",
      "execution_count": null,
      "metadata": {
        "id": "Axf_sVkR5L5L"
      },
      "outputs": [],
      "source": [
        ""
      ]
    },
    {
      "cell_type": "code",
      "execution_count": null,
      "metadata": {
        "id": "7PzAFEMy5Lqn"
      },
      "outputs": [],
      "source": [
        ""
      ]
    },
    {
      "cell_type": "code",
      "execution_count": null,
      "metadata": {
        "id": "kNzR8Mi12WG0"
      },
      "outputs": [],
      "source": [
        "drive.flush_and_unmount()"
      ]
    },
    {
      "cell_type": "code",
      "source": [
        ""
      ],
      "metadata": {
        "id": "Jdy8wPSZPWR7"
      },
      "execution_count": null,
      "outputs": []
    }
  ],
  "metadata": {
    "colab": {
      "collapsed_sections": [],
      "name": "Jacc_similarity_EM",
      "provenance": [],
      "include_colab_link": true
    },
    "kernelspec": {
      "display_name": "Python 3",
      "name": "python3"
    },
    "language_info": {
      "name": "python"
    },
    "gpuClass": "standard"
  },
  "nbformat": 4,
  "nbformat_minor": 0
}