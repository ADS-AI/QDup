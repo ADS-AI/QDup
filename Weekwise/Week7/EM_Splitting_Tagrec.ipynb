{
  "nbformat": 4,
  "nbformat_minor": 0,
  "metadata": {
    "colab": {
      "name": "EM_Splitting_Tagrec.ipynb",
      "provenance": [],
      "collapsed_sections": [],
      "authorship_tag": "ABX9TyMgsPjIgxDrx8FPYOhSFk+7",
      "include_colab_link": true
    },
    "kernelspec": {
      "name": "python3",
      "display_name": "Python 3"
    },
    "language_info": {
      "name": "python"
    },
    "gpuClass": "standard"
  },
  "cells": [
    {
      "cell_type": "markdown",
      "metadata": {
        "id": "view-in-github",
        "colab_type": "text"
      },
      "source": [
        "<a href=\"https://colab.research.google.com/github/VenkteshV/Question_duplicate_detection/blob/main/Week7/EM_Splitting_Tagrec.ipynb\" target=\"_parent\"><img src=\"https://colab.research.google.com/assets/colab-badge.svg\" alt=\"Open In Colab\"/></a>"
      ]
    },
    {
      "cell_type": "code",
      "execution_count": 1,
      "metadata": {
        "id": "ZoXlCWx4AfE1"
      },
      "outputs": [],
      "source": [
        "%matplotlib inline\n",
        "from IPython.display import clear_output\n",
        "import matplotlib.pyplot as plt\n",
        "import seaborn as sns\n",
        "import pandas as pd\n",
        "import json\n",
        "import numpy as np\n",
        "from tqdm import tqdm"
      ]
    },
    {
      "cell_type": "code",
      "source": [
        "from google.colab import drive\n",
        "drive.mount('/content/drive')"
      ],
      "metadata": {
        "colab": {
          "base_uri": "https://localhost:8080/"
        },
        "id": "AOym4iPcA7FX",
        "outputId": "7f5e255c-c563-48f5-ced8-bee80dc306fe"
      },
      "execution_count": 2,
      "outputs": [
        {
          "output_type": "stream",
          "name": "stdout",
          "text": [
            "Mounted at /content/drive\n"
          ]
        }
      ]
    },
    {
      "cell_type": "code",
      "source": [
        "df = pd.read_csv(\"drive/My Drive/Extramarks Project/Dataset versions/JEE_EM_tagrec_tagged.csv\", index_col = 0 )"
      ],
      "metadata": {
        "colab": {
          "base_uri": "https://localhost:8080/"
        },
        "id": "GE0-_ZhOA77F",
        "outputId": "866ad45c-8838-49cd-8858-3427cbe1c23a"
      },
      "execution_count": 20,
      "outputs": [
        {
          "output_type": "stream",
          "name": "stderr",
          "text": [
            "/usr/local/lib/python3.7/dist-packages/IPython/core/interactiveshell.py:2882: DtypeWarning: Columns (3) have mixed types.Specify dtype option on import or set low_memory=False.\n",
            "  exec(code_obj, self.user_global_ns, self.user_ns)\n"
          ]
        }
      ]
    },
    {
      "cell_type": "code",
      "source": [
        "# df = df[:1000]"
      ],
      "metadata": {
        "id": "VHe85P3VDCoD"
      },
      "execution_count": 21,
      "outputs": []
    },
    {
      "cell_type": "code",
      "source": [
        "df"
      ],
      "metadata": {
        "colab": {
          "base_uri": "https://localhost:8080/",
          "height": 485
        },
        "id": "gNkokURZB6P4",
        "outputId": "fac6e555-2cb1-4862-cba0-bfe463dfd1ff"
      },
      "execution_count": 9,
      "outputs": [
        {
          "output_type": "execute_result",
          "data": {
            "text/plain": [
              "            question_id                                           question  \\\n",
              "Unnamed: 0                                                                   \n",
              "31831           1530293  title in the document shown below is quite bor...   \n",
              "56188           1643842   abscissa and ordinate of a point are negative in   \n",
              "40819           1838632  cultivating flowers and other ornamental plant...   \n",
              "8962            1879418  if a and b are two fixed points then the locus...   \n",
              "8272            1886297                           the negation of p q p is   \n",
              "...                 ...                                                ...   \n",
              "4647            1910080  zinc copper couple that can be used as a reduc...   \n",
              "57401           1595674  what is the meaning of the idiomatic phrase se...   \n",
              "7924            1887098            for any two events e and f what is true   \n",
              "79394            849487                the shortcut key to open a new file   \n",
              "83620            828787  what kind of vegetation is found in the himach...   \n",
              "\n",
              "           syllabus_id                                             answer  \\\n",
              "Unnamed: 0                                                                  \n",
              "31831           514031                                           WordArt    \n",
              "56188            22091                                    third quadrant    \n",
              "40819           744185                                      Floriculture    \n",
              "8962            698829                                          A circle    \n",
              "8272            731477                                                 F    \n",
              "...                ...                                                ...   \n",
              "4647            698110                           Zinc coated with copper    \n",
              "57401             6201                                  all of the above    \n",
              "7924            734195                                   P E F P E P F 1    \n",
              "79394             5114                                            Ctrl N    \n",
              "83620            86422  p Thick forests of pine oak deodar and fir tre...   \n",
              "\n",
              "                     question_type  len  words  \\\n",
              "Unnamed: 0                                       \n",
              "31831       Single Choice Question   84     16   \n",
              "56188       Single Choice Question   48      9   \n",
              "40819       Single Choice Question   76     13   \n",
              "8962        Single Choice Question  122     29   \n",
              "8272        Single Choice Question   24      7   \n",
              "...                            ...  ...    ...   \n",
              "4647        Single Choice Question   70     14   \n",
              "57401       Single Choice Question   58     11   \n",
              "7924        Single Choice Question   39     10   \n",
              "79394       Single Choice Question   35      8   \n",
              "83620          Subjective Question   54     10   \n",
              "\n",
              "                                         tagrec++_predictions  \n",
              "Unnamed: 0                                                     \n",
              "31831       computer science[c++]>>database concepts,compu...  \n",
              "56188       computer science[c++]>>boolean algebra,compute...  \n",
              "40819       science>>crop production and management,scienc...  \n",
              "8962        physics>>physics : part - i>>units and measure...  \n",
              "8272        computer science[c++]>>boolean algebra,chemist...  \n",
              "...                                                       ...  \n",
              "4647        chemistry>>chemistry : part i>>d and f- block ...  \n",
              "57401       physics>>physics : part - ii,computer science[...  \n",
              "7924        science>>why do we fall ill?,computer science[...  \n",
              "79394       computer science[c++]>>working with operating ...  \n",
              "83620       social science>>geography : the earth our habi...  \n",
              "\n",
              "[1000 rows x 8 columns]"
            ],
            "text/html": [
              "\n",
              "  <div id=\"df-96a53873-db52-4d92-8016-38061760be42\">\n",
              "    <div class=\"colab-df-container\">\n",
              "      <div>\n",
              "<style scoped>\n",
              "    .dataframe tbody tr th:only-of-type {\n",
              "        vertical-align: middle;\n",
              "    }\n",
              "\n",
              "    .dataframe tbody tr th {\n",
              "        vertical-align: top;\n",
              "    }\n",
              "\n",
              "    .dataframe thead th {\n",
              "        text-align: right;\n",
              "    }\n",
              "</style>\n",
              "<table border=\"1\" class=\"dataframe\">\n",
              "  <thead>\n",
              "    <tr style=\"text-align: right;\">\n",
              "      <th></th>\n",
              "      <th>question_id</th>\n",
              "      <th>question</th>\n",
              "      <th>syllabus_id</th>\n",
              "      <th>answer</th>\n",
              "      <th>question_type</th>\n",
              "      <th>len</th>\n",
              "      <th>words</th>\n",
              "      <th>tagrec++_predictions</th>\n",
              "    </tr>\n",
              "    <tr>\n",
              "      <th>Unnamed: 0</th>\n",
              "      <th></th>\n",
              "      <th></th>\n",
              "      <th></th>\n",
              "      <th></th>\n",
              "      <th></th>\n",
              "      <th></th>\n",
              "      <th></th>\n",
              "      <th></th>\n",
              "    </tr>\n",
              "  </thead>\n",
              "  <tbody>\n",
              "    <tr>\n",
              "      <th>31831</th>\n",
              "      <td>1530293</td>\n",
              "      <td>title in the document shown below is quite bor...</td>\n",
              "      <td>514031</td>\n",
              "      <td>WordArt</td>\n",
              "      <td>Single Choice Question</td>\n",
              "      <td>84</td>\n",
              "      <td>16</td>\n",
              "      <td>computer science[c++]&gt;&gt;database concepts,compu...</td>\n",
              "    </tr>\n",
              "    <tr>\n",
              "      <th>56188</th>\n",
              "      <td>1643842</td>\n",
              "      <td>abscissa and ordinate of a point are negative in</td>\n",
              "      <td>22091</td>\n",
              "      <td>third quadrant</td>\n",
              "      <td>Single Choice Question</td>\n",
              "      <td>48</td>\n",
              "      <td>9</td>\n",
              "      <td>computer science[c++]&gt;&gt;boolean algebra,compute...</td>\n",
              "    </tr>\n",
              "    <tr>\n",
              "      <th>40819</th>\n",
              "      <td>1838632</td>\n",
              "      <td>cultivating flowers and other ornamental plant...</td>\n",
              "      <td>744185</td>\n",
              "      <td>Floriculture</td>\n",
              "      <td>Single Choice Question</td>\n",
              "      <td>76</td>\n",
              "      <td>13</td>\n",
              "      <td>science&gt;&gt;crop production and management,scienc...</td>\n",
              "    </tr>\n",
              "    <tr>\n",
              "      <th>8962</th>\n",
              "      <td>1879418</td>\n",
              "      <td>if a and b are two fixed points then the locus...</td>\n",
              "      <td>698829</td>\n",
              "      <td>A circle</td>\n",
              "      <td>Single Choice Question</td>\n",
              "      <td>122</td>\n",
              "      <td>29</td>\n",
              "      <td>physics&gt;&gt;physics : part - i&gt;&gt;units and measure...</td>\n",
              "    </tr>\n",
              "    <tr>\n",
              "      <th>8272</th>\n",
              "      <td>1886297</td>\n",
              "      <td>the negation of p q p is</td>\n",
              "      <td>731477</td>\n",
              "      <td>F</td>\n",
              "      <td>Single Choice Question</td>\n",
              "      <td>24</td>\n",
              "      <td>7</td>\n",
              "      <td>computer science[c++]&gt;&gt;boolean algebra,chemist...</td>\n",
              "    </tr>\n",
              "    <tr>\n",
              "      <th>...</th>\n",
              "      <td>...</td>\n",
              "      <td>...</td>\n",
              "      <td>...</td>\n",
              "      <td>...</td>\n",
              "      <td>...</td>\n",
              "      <td>...</td>\n",
              "      <td>...</td>\n",
              "      <td>...</td>\n",
              "    </tr>\n",
              "    <tr>\n",
              "      <th>4647</th>\n",
              "      <td>1910080</td>\n",
              "      <td>zinc copper couple that can be used as a reduc...</td>\n",
              "      <td>698110</td>\n",
              "      <td>Zinc coated with copper</td>\n",
              "      <td>Single Choice Question</td>\n",
              "      <td>70</td>\n",
              "      <td>14</td>\n",
              "      <td>chemistry&gt;&gt;chemistry : part i&gt;&gt;d and f- block ...</td>\n",
              "    </tr>\n",
              "    <tr>\n",
              "      <th>57401</th>\n",
              "      <td>1595674</td>\n",
              "      <td>what is the meaning of the idiomatic phrase se...</td>\n",
              "      <td>6201</td>\n",
              "      <td>all of the above</td>\n",
              "      <td>Single Choice Question</td>\n",
              "      <td>58</td>\n",
              "      <td>11</td>\n",
              "      <td>physics&gt;&gt;physics : part - ii,computer science[...</td>\n",
              "    </tr>\n",
              "    <tr>\n",
              "      <th>7924</th>\n",
              "      <td>1887098</td>\n",
              "      <td>for any two events e and f what is true</td>\n",
              "      <td>734195</td>\n",
              "      <td>P E F P E P F 1</td>\n",
              "      <td>Single Choice Question</td>\n",
              "      <td>39</td>\n",
              "      <td>10</td>\n",
              "      <td>science&gt;&gt;why do we fall ill?,computer science[...</td>\n",
              "    </tr>\n",
              "    <tr>\n",
              "      <th>79394</th>\n",
              "      <td>849487</td>\n",
              "      <td>the shortcut key to open a new file</td>\n",
              "      <td>5114</td>\n",
              "      <td>Ctrl N</td>\n",
              "      <td>Single Choice Question</td>\n",
              "      <td>35</td>\n",
              "      <td>8</td>\n",
              "      <td>computer science[c++]&gt;&gt;working with operating ...</td>\n",
              "    </tr>\n",
              "    <tr>\n",
              "      <th>83620</th>\n",
              "      <td>828787</td>\n",
              "      <td>what kind of vegetation is found in the himach...</td>\n",
              "      <td>86422</td>\n",
              "      <td>p Thick forests of pine oak deodar and fir tre...</td>\n",
              "      <td>Subjective Question</td>\n",
              "      <td>54</td>\n",
              "      <td>10</td>\n",
              "      <td>social science&gt;&gt;geography : the earth our habi...</td>\n",
              "    </tr>\n",
              "  </tbody>\n",
              "</table>\n",
              "<p>1000 rows × 8 columns</p>\n",
              "</div>\n",
              "      <button class=\"colab-df-convert\" onclick=\"convertToInteractive('df-96a53873-db52-4d92-8016-38061760be42')\"\n",
              "              title=\"Convert this dataframe to an interactive table.\"\n",
              "              style=\"display:none;\">\n",
              "        \n",
              "  <svg xmlns=\"http://www.w3.org/2000/svg\" height=\"24px\"viewBox=\"0 0 24 24\"\n",
              "       width=\"24px\">\n",
              "    <path d=\"M0 0h24v24H0V0z\" fill=\"none\"/>\n",
              "    <path d=\"M18.56 5.44l.94 2.06.94-2.06 2.06-.94-2.06-.94-.94-2.06-.94 2.06-2.06.94zm-11 1L8.5 8.5l.94-2.06 2.06-.94-2.06-.94L8.5 2.5l-.94 2.06-2.06.94zm10 10l.94 2.06.94-2.06 2.06-.94-2.06-.94-.94-2.06-.94 2.06-2.06.94z\"/><path d=\"M17.41 7.96l-1.37-1.37c-.4-.4-.92-.59-1.43-.59-.52 0-1.04.2-1.43.59L10.3 9.45l-7.72 7.72c-.78.78-.78 2.05 0 2.83L4 21.41c.39.39.9.59 1.41.59.51 0 1.02-.2 1.41-.59l7.78-7.78 2.81-2.81c.8-.78.8-2.07 0-2.86zM5.41 20L4 18.59l7.72-7.72 1.47 1.35L5.41 20z\"/>\n",
              "  </svg>\n",
              "      </button>\n",
              "      \n",
              "  <style>\n",
              "    .colab-df-container {\n",
              "      display:flex;\n",
              "      flex-wrap:wrap;\n",
              "      gap: 12px;\n",
              "    }\n",
              "\n",
              "    .colab-df-convert {\n",
              "      background-color: #E8F0FE;\n",
              "      border: none;\n",
              "      border-radius: 50%;\n",
              "      cursor: pointer;\n",
              "      display: none;\n",
              "      fill: #1967D2;\n",
              "      height: 32px;\n",
              "      padding: 0 0 0 0;\n",
              "      width: 32px;\n",
              "    }\n",
              "\n",
              "    .colab-df-convert:hover {\n",
              "      background-color: #E2EBFA;\n",
              "      box-shadow: 0px 1px 2px rgba(60, 64, 67, 0.3), 0px 1px 3px 1px rgba(60, 64, 67, 0.15);\n",
              "      fill: #174EA6;\n",
              "    }\n",
              "\n",
              "    [theme=dark] .colab-df-convert {\n",
              "      background-color: #3B4455;\n",
              "      fill: #D2E3FC;\n",
              "    }\n",
              "\n",
              "    [theme=dark] .colab-df-convert:hover {\n",
              "      background-color: #434B5C;\n",
              "      box-shadow: 0px 1px 3px 1px rgba(0, 0, 0, 0.15);\n",
              "      filter: drop-shadow(0px 1px 2px rgba(0, 0, 0, 0.3));\n",
              "      fill: #FFFFFF;\n",
              "    }\n",
              "  </style>\n",
              "\n",
              "      <script>\n",
              "        const buttonEl =\n",
              "          document.querySelector('#df-96a53873-db52-4d92-8016-38061760be42 button.colab-df-convert');\n",
              "        buttonEl.style.display =\n",
              "          google.colab.kernel.accessAllowed ? 'block' : 'none';\n",
              "\n",
              "        async function convertToInteractive(key) {\n",
              "          const element = document.querySelector('#df-96a53873-db52-4d92-8016-38061760be42');\n",
              "          const dataTable =\n",
              "            await google.colab.kernel.invokeFunction('convertToInteractive',\n",
              "                                                     [key], {});\n",
              "          if (!dataTable) return;\n",
              "\n",
              "          const docLinkHtml = 'Like what you see? Visit the ' +\n",
              "            '<a target=\"_blank\" href=https://colab.research.google.com/notebooks/data_table.ipynb>data table notebook</a>'\n",
              "            + ' to learn more about interactive tables.';\n",
              "          element.innerHTML = '';\n",
              "          dataTable['output_type'] = 'display_data';\n",
              "          await google.colab.output.renderOutput(dataTable, element);\n",
              "          const docLink = document.createElement('div');\n",
              "          docLink.innerHTML = docLinkHtml;\n",
              "          element.appendChild(docLink);\n",
              "        }\n",
              "      </script>\n",
              "    </div>\n",
              "  </div>\n",
              "  "
            ]
          },
          "metadata": {},
          "execution_count": 9
        }
      ]
    },
    {
      "cell_type": "code",
      "source": [
        "label1 = []\n",
        "label2 = []\n",
        "label3 = []\n",
        "\n",
        "for index, row in df.iterrows():\n",
        "  spl = row['tagrec++_predictions'].split(\",\")\n",
        "  label1.append(spl[0])\n",
        "  label2.append(spl[1])\n",
        "  label3.append(spl[2])"
      ],
      "metadata": {
        "id": "kjud3AEHBACl"
      },
      "execution_count": 10,
      "outputs": []
    },
    {
      "cell_type": "code",
      "source": [
        "df['label1'] = label1\n",
        "df['label2'] = label2\n",
        "df['label3'] = label3"
      ],
      "metadata": {
        "id": "aC1yfnwpBGGs"
      },
      "execution_count": null,
      "outputs": []
    },
    {
      "cell_type": "code",
      "source": [
        "df.to_csv(\"drive/My Drive/Extramarks Project/Dataset versions/Model1-Semantic/JEE_EM_tagrec_tagged_separated_labels.csv\")"
      ],
      "metadata": {
        "id": "AUDZYKSADoL5"
      },
      "execution_count": 22,
      "outputs": []
    },
    {
      "cell_type": "code",
      "source": [
        ""
      ],
      "metadata": {
        "id": "E6E4zPtXEHZW"
      },
      "execution_count": null,
      "outputs": []
    }
  ]
}