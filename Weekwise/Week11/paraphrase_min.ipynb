{
  "nbformat": 4,
  "nbformat_minor": 0,
  "metadata": {
    "colab": {
      "name": "paraphrase-min.ipynb",
      "provenance": [],
      "collapsed_sections": [],
      "authorship_tag": "ABX9TyNBaScWMLzV0TVAL8VAR8gs",
      "include_colab_link": true
    },
    "kernelspec": {
      "name": "python3",
      "display_name": "Python 3"
    },
    "language_info": {
      "name": "python"
    },
    "gpuClass": "standard"
  },
  "cells": [
    {
      "cell_type": "markdown",
      "metadata": {
        "id": "view-in-github",
        "colab_type": "text"
      },
      "source": [
        "<a href=\"https://colab.research.google.com/github/VenkteshV/Question_duplicate_detection/blob/main/Week11/paraphrase_min.ipynb\" target=\"_parent\"><img src=\"https://colab.research.google.com/assets/colab-badge.svg\" alt=\"Open In Colab\"/></a>"
      ]
    },
    {
      "cell_type": "code",
      "execution_count": null,
      "metadata": {
        "colab": {
          "base_uri": "https://localhost:8080/"
        },
        "id": "3uLT0giL1O0y",
        "outputId": "5a64aaa9-e63d-42aa-c102-b5eb135a18ae"
      },
      "outputs": [
        {
          "output_type": "stream",
          "name": "stdout",
          "text": [
            "Hello world\n"
          ]
        }
      ],
      "source": [
        "print(\"Hello world\")"
      ]
    },
    {
      "cell_type": "code",
      "source": [
        "!pip install transformers\n",
        "!pip install tensorboard\n",
        "!pip install sentence_transformers\n",
        "import pandas as pd\n",
        "import numpy as np\n",
        "import torch\n",
        "import pandas as pd\n",
        "from time import time\n",
        "from transformers import AutoTokenizer, AutoModel, AutoModelForSequenceClassification\n",
        "import tensorflow_hub as hub # For USE\n",
        "from sentence_transformers import SentenceTransformer\n",
        "import os\n",
        "import tensorflow as tf\n",
        "import datetime\n",
        "from tensorboard.plugins import projector\n",
        "\n",
        "\n",
        "def generate_embeddings(data_ls):\n",
        "    model = SentenceTransformer('paraphrase-MiniLM-L6-v2')\n",
        "    embeddings = model.encode(data_ls)\n",
        "    return embeddings"
      ],
      "metadata": {
        "id": "DOCPSsrP1yx2"
      },
      "execution_count": null,
      "outputs": []
    },
    {
      "cell_type": "code",
      "source": [
        "from google.colab import drive\n",
        "drive.mount('/content/drive')"
      ],
      "metadata": {
        "id": "r9fFJJZ73fcf"
      },
      "execution_count": null,
      "outputs": []
    },
    {
      "cell_type": "code",
      "source": [
        "df = pd.read_csv(\"drive/MyDrive/Extramarks Project/Dataset versions/Pipeline data/Base_data.csv\").drop(\"Unnamed: 0\", axis = \"columns\")"
      ],
      "metadata": {
        "id": "CXguQhSp3hf2"
      },
      "execution_count": null,
      "outputs": []
    },
    {
      "cell_type": "code",
      "source": [
        "count = 0\n",
        "sentences = []\n",
        "for i in df['question']:\n",
        "  if  type(i) != type(\"\") or len(i) <= 0 :\n",
        "    count+=1\n",
        "  else:\n",
        "    sentences.append(i)\n",
        "\n",
        "print(count, \" sentences removed.\")"
      ],
      "metadata": {
        "id": "OVkVRFGM9JC5"
      },
      "execution_count": null,
      "outputs": []
    },
    {
      "cell_type": "code",
      "source": [
        "t =time()\n",
        "embeds = generate_embeddings(sentences)\n",
        "print(\"Time taken: \" , int((time() - t)%60) ,\"s, \", int((time() - t)/60), \"m\")"
      ],
      "metadata": {
        "id": "E9NUEbgE9Nc6"
      },
      "execution_count": null,
      "outputs": []
    },
    {
      "cell_type": "code",
      "source": [
        "embedding_df = pd.DataFrame(embeds)\n",
        "path = \"drive/MyDrive/Extramarks Project/Pipeline data/paraphrase-mini/output.tsv\"\n",
        "with open(path, 'w', encoding = 'utf-8-sig') as f:\n",
        "  embedding_df.to_csv(f, index=False, sep='\\t')"
      ],
      "metadata": {
        "id": "Zz23jJFd9PCI"
      },
      "execution_count": null,
      "outputs": []
    },
    {
      "cell_type": "code",
      "source": [
        "sentences_df = pd.DataFrame(sentences)\n",
        "path = \"drive/MyDrive/Extramarks Project/Pipeline data/paraphrase-mini/output.tsv\"\n",
        "with open(path, 'w', encoding = 'utf-8-sig') as f:\n",
        "  sentences_df.to_csv(f, index=False, sep='\\t')"
      ],
      "metadata": {
        "id": "ItZq0GXe9XFR"
      },
      "execution_count": null,
      "outputs": []
    },
    {
      "cell_type": "code",
      "source": [
        ""
      ],
      "metadata": {
        "id": "D8ASOLU-9ZTJ"
      },
      "execution_count": null,
      "outputs": []
    }
  ]
}