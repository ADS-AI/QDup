{
  "nbformat": 4,
  "nbformat_minor": 0,
  "metadata": {
    "colab": {
      "name": "TopicRank_Extractor.ipynb",
      "provenance": [],
      "collapsed_sections": [
        "4cjHP_tm_ukk"
      ],
      "authorship_tag": "ABX9TyPxAXXk83HInFUWTHQIVfRj",
      "include_colab_link": true
    },
    "kernelspec": {
      "name": "python3",
      "display_name": "Python 3"
    },
    "language_info": {
      "name": "python"
    },
    "gpuClass": "standard"
  },
  "cells": [
    {
      "cell_type": "markdown",
      "metadata": {
        "id": "view-in-github",
        "colab_type": "text"
      },
      "source": [
        "<a href=\"https://colab.research.google.com/github/VenkteshV/Question_duplicate_detection/blob/main/Week6/TopicRank_Extractor.ipynb\" target=\"_parent\"><img src=\"https://colab.research.google.com/assets/colab-badge.svg\" alt=\"Open In Colab\"/></a>"
      ]
    },
    {
      "cell_type": "code",
      "source": [
        "!pip install --quiet keybert\n",
        "!pip install --quiet git+https://github.com/boudinfl/pke.git"
      ],
      "metadata": {
        "id": "inLepTASoMvj"
      },
      "execution_count": null,
      "outputs": []
    },
    {
      "cell_type": "code",
      "execution_count": null,
      "metadata": {
        "id": "Zq2nd_qhjMyr"
      },
      "outputs": [],
      "source": [
        "import pandas as pd\n",
        "import spacy\n",
        "import pke\n",
        "from tqdm import tqdm\n",
        "from spacy.matcher import Matcher\n",
        "import time\n",
        "import numpy as np\n",
        "from keybert import KeyBERT"
      ]
    },
    {
      "cell_type": "code",
      "source": [
        "from google.colab import drive\n",
        "drive.mount('/content/drive')"
      ],
      "metadata": {
        "id": "GlLqhtRikGjv",
        "colab": {
          "base_uri": "https://localhost:8080/"
        },
        "outputId": "ba08e4f4-c4d2-4381-dcc6-e660e1889628"
      },
      "execution_count": null,
      "outputs": [
        {
          "output_type": "stream",
          "name": "stdout",
          "text": [
            "Drive already mounted at /content/drive; to attempt to forcibly remount, call drive.mount(\"/content/drive\", force_remount=True).\n"
          ]
        }
      ]
    },
    {
      "cell_type": "markdown",
      "source": [
        "### Boilerplpate for working with POS tags"
      ],
      "metadata": {
        "id": "4cjHP_tm_ukk"
      }
    },
    {
      "cell_type": "code",
      "source": [
        "patterns = [\n",
        "        [{'POS': 'PROPN'}, {'POS': 'VERB'}, {'POS': 'VERB'}],\n",
        "        [{'POS': 'NOUN'}, {'POS': 'VERB'}, {'POS': 'NOUN'}],\n",
        "        [{'POS': 'VERB'}, {'POS': 'NOUN'}],\n",
        "        [{'POS': 'ADJ'}, {'POS': 'ADJ'}, {'POS': 'NOUN'}],  \n",
        "        [{'POS': 'NOUN'}, {'POS': 'VERB'}],\n",
        "        [{'POS': 'PROPN'}, {'POS': 'PROPN'}, {'POS': 'PROPN'}],\n",
        "        [{'POS': 'PROPN'}, {'POS': 'PROPN'}, {'POS': 'NOUN'}],\n",
        "        [{'POS': 'ADJ'}, {'POS': 'NOUN'}],\n",
        "        [{'POS': 'ADJ'}, {'POS': 'NOUN'}, {'POS': 'NOUN'}, {'POS': 'NOUN'}],\n",
        "        [{'POS': 'PROPN'}, {'POS': 'PROPN'}, {'POS': 'PROPN'}, {'POS': 'ADV'}, {'POS': 'PROPN'}],\n",
        "        [{'POS': 'PROPN'}, {'POS': 'PROPN'}, {'POS': 'PROPN'}, {'POS': 'VERB'}],\n",
        "        [{'POS': 'PROPN'}, {'POS': 'PROPN'}],\n",
        "        [{'POS': 'NOUN'}, {'POS': 'NOUN'}],\n",
        "        [{'POS': 'ADJ'}, {'POS': 'PROPN'}],\n",
        "        [{'POS': 'PROPN'}, {'POS': 'ADP'}, {'POS': 'PROPN'}],\n",
        "        [{'POS': 'PROPN'}, {'POS': 'ADJ'}, {'POS': 'NOUN'}],\n",
        "        [{'POS': 'PROPN'}, {'POS': 'VERB'}, {'POS': 'NOUN'}],\n",
        "        [{'POS': 'NOUN'}, {'POS': 'ADP'}, {'POS': 'NOUN'}],\n",
        "        [{'POS': 'PROPN'}, {'POS': 'NOUN'}, {'POS': 'PROPN'}],\n",
        "        [{'POS': 'VERB'}, {'POS': 'ADV'}],\n",
        "        [{'POS': 'PROPN'}, {'POS': 'NOUN'}],\n",
        "        ]\n",
        "\n",
        "nlp = spacy.load(\"en_core_web_sm\")\n",
        "matcher = Matcher(nlp.vocab)\n",
        "\n",
        "matcher.add(\"MyMatcher\", patterns)\n",
        "\n",
        "doc = nlp('''\n",
        "  My pattern matcher. We’ll define a benchmark function that takes in our corpus and a boolean for shuffling or not our data. For each extractor, it calls the extract_keywords_from_corpus function, which returns a dictionary containing the result of that extractor. We store that value in a list.\n",
        "  For each algorithm in the list, we compute\n",
        "  average number of extracted keywords\n",
        "  average number of matched keywords\n",
        "  compute a score that takes into account the average number of matches found divided by how much time it took to perform the operation\n",
        "  '''\n",
        ")\n",
        "\n",
        "matches = matcher(doc)\n",
        "for match_id, start, end in matches:\n",
        "    string_id = nlp.vocab.strings[match_id]  # Get string representation\n",
        "    span = doc[start:end]  # The matched span\n",
        "    print(string_id, start, end, span.text)"
      ],
      "metadata": {
        "colab": {
          "base_uri": "https://localhost:8080/"
        },
        "id": "-GoenjMS9ltT",
        "outputId": "83891af8-eff4-4716-c54d-5bdb76d05b62"
      },
      "execution_count": null,
      "outputs": [
        {
          "output_type": "stream",
          "name": "stdout",
          "text": [
            "MyMatcher 2 4 pattern matcher\n",
            "MyMatcher 9 11 benchmark function\n",
            "MyMatcher 39 41 dictionary containing\n",
            "MyMatcher 66 68 average number\n",
            "MyMatcher 69 71 extracted keywords\n",
            "MyMatcher 72 74 average number\n",
            "MyMatcher 75 77 matched keywords\n",
            "MyMatcher 86 88 average number\n",
            "MyMatcher 87 90 number of matches\n",
            "MyMatcher 89 91 matches found\n",
            "MyMatcher 94 96 much time\n"
          ]
        }
      ]
    },
    {
      "cell_type": "markdown",
      "source": [
        "### Using the Topic_Rank_Extractor"
      ],
      "metadata": {
        "id": "JUy8nbOA_zHe"
      }
    },
    {
      "cell_type": "code",
      "source": [
        "df = pd.read_csv(\"/content/drive/MyDrive/Literature Review/Dataset versions/SSDS/SSDS_base_dataset_10kquestions\")\n",
        "df = df.drop(\"Unnamed: 0\", axis= 1)"
      ],
      "metadata": {
        "id": "L3i7i7mykHUN"
      },
      "execution_count": null,
      "outputs": []
    },
    {
      "cell_type": "code",
      "source": [
        "# df = df[:10]"
      ],
      "metadata": {
        "id": "Ly8lS4DZBZU9"
      },
      "execution_count": null,
      "outputs": []
    },
    {
      "cell_type": "code",
      "source": [
        "questions_ls = df['question']"
      ],
      "metadata": {
        "id": "VLP1Uafvvoc9"
      },
      "execution_count": null,
      "outputs": []
    },
    {
      "cell_type": "code",
      "source": [
        "df.head()"
      ],
      "metadata": {
        "colab": {
          "base_uri": "https://localhost:8080/",
          "height": 201
        },
        "id": "clpZ-HwVkMtA",
        "outputId": "af4d571f-3536-4260-cda5-809ffc64100f"
      },
      "execution_count": null,
      "outputs": [
        {
          "output_type": "execute_result",
          "data": {
            "text/plain": [
              "   question_id                                           question syllabus_id  \\\n",
              "0      1523485  the first method used for determining the actu...      518161   \n",
              "1       833487      when we subtract a number from itself we get        86295   \n",
              "2      2057553             what orbitals has two spherical nodes       697667   \n",
              "3      1360683  the reagent used to step up in the homologous ...      449190   \n",
              "4       849902                the shortcut key to delete a slide         5118   \n",
              "\n",
              "                              answer           question_type  \n",
              "0  Swedish geologist Gerard De Geer   Single Choice Question  \n",
              "1                              zero   Single Choice Question  \n",
              "2                                6f   Single Choice Question  \n",
              "3                      Diazomethane   Single Choice Question  \n",
              "4                            Ctrl X   Single Choice Question  "
            ],
            "text/html": [
              "\n",
              "  <div id=\"df-446d97e4-ae7d-4726-a065-0b8297806dcc\">\n",
              "    <div class=\"colab-df-container\">\n",
              "      <div>\n",
              "<style scoped>\n",
              "    .dataframe tbody tr th:only-of-type {\n",
              "        vertical-align: middle;\n",
              "    }\n",
              "\n",
              "    .dataframe tbody tr th {\n",
              "        vertical-align: top;\n",
              "    }\n",
              "\n",
              "    .dataframe thead th {\n",
              "        text-align: right;\n",
              "    }\n",
              "</style>\n",
              "<table border=\"1\" class=\"dataframe\">\n",
              "  <thead>\n",
              "    <tr style=\"text-align: right;\">\n",
              "      <th></th>\n",
              "      <th>question_id</th>\n",
              "      <th>question</th>\n",
              "      <th>syllabus_id</th>\n",
              "      <th>answer</th>\n",
              "      <th>question_type</th>\n",
              "    </tr>\n",
              "  </thead>\n",
              "  <tbody>\n",
              "    <tr>\n",
              "      <th>0</th>\n",
              "      <td>1523485</td>\n",
              "      <td>the first method used for determining the actu...</td>\n",
              "      <td>518161</td>\n",
              "      <td>Swedish geologist Gerard De Geer</td>\n",
              "      <td>Single Choice Question</td>\n",
              "    </tr>\n",
              "    <tr>\n",
              "      <th>1</th>\n",
              "      <td>833487</td>\n",
              "      <td>when we subtract a number from itself we get</td>\n",
              "      <td>86295</td>\n",
              "      <td>zero</td>\n",
              "      <td>Single Choice Question</td>\n",
              "    </tr>\n",
              "    <tr>\n",
              "      <th>2</th>\n",
              "      <td>2057553</td>\n",
              "      <td>what orbitals has two spherical nodes</td>\n",
              "      <td>697667</td>\n",
              "      <td>6f</td>\n",
              "      <td>Single Choice Question</td>\n",
              "    </tr>\n",
              "    <tr>\n",
              "      <th>3</th>\n",
              "      <td>1360683</td>\n",
              "      <td>the reagent used to step up in the homologous ...</td>\n",
              "      <td>449190</td>\n",
              "      <td>Diazomethane</td>\n",
              "      <td>Single Choice Question</td>\n",
              "    </tr>\n",
              "    <tr>\n",
              "      <th>4</th>\n",
              "      <td>849902</td>\n",
              "      <td>the shortcut key to delete a slide</td>\n",
              "      <td>5118</td>\n",
              "      <td>Ctrl X</td>\n",
              "      <td>Single Choice Question</td>\n",
              "    </tr>\n",
              "  </tbody>\n",
              "</table>\n",
              "</div>\n",
              "      <button class=\"colab-df-convert\" onclick=\"convertToInteractive('df-446d97e4-ae7d-4726-a065-0b8297806dcc')\"\n",
              "              title=\"Convert this dataframe to an interactive table.\"\n",
              "              style=\"display:none;\">\n",
              "        \n",
              "  <svg xmlns=\"http://www.w3.org/2000/svg\" height=\"24px\"viewBox=\"0 0 24 24\"\n",
              "       width=\"24px\">\n",
              "    <path d=\"M0 0h24v24H0V0z\" fill=\"none\"/>\n",
              "    <path d=\"M18.56 5.44l.94 2.06.94-2.06 2.06-.94-2.06-.94-.94-2.06-.94 2.06-2.06.94zm-11 1L8.5 8.5l.94-2.06 2.06-.94-2.06-.94L8.5 2.5l-.94 2.06-2.06.94zm10 10l.94 2.06.94-2.06 2.06-.94-2.06-.94-.94-2.06-.94 2.06-2.06.94z\"/><path d=\"M17.41 7.96l-1.37-1.37c-.4-.4-.92-.59-1.43-.59-.52 0-1.04.2-1.43.59L10.3 9.45l-7.72 7.72c-.78.78-.78 2.05 0 2.83L4 21.41c.39.39.9.59 1.41.59.51 0 1.02-.2 1.41-.59l7.78-7.78 2.81-2.81c.8-.78.8-2.07 0-2.86zM5.41 20L4 18.59l7.72-7.72 1.47 1.35L5.41 20z\"/>\n",
              "  </svg>\n",
              "      </button>\n",
              "      \n",
              "  <style>\n",
              "    .colab-df-container {\n",
              "      display:flex;\n",
              "      flex-wrap:wrap;\n",
              "      gap: 12px;\n",
              "    }\n",
              "\n",
              "    .colab-df-convert {\n",
              "      background-color: #E8F0FE;\n",
              "      border: none;\n",
              "      border-radius: 50%;\n",
              "      cursor: pointer;\n",
              "      display: none;\n",
              "      fill: #1967D2;\n",
              "      height: 32px;\n",
              "      padding: 0 0 0 0;\n",
              "      width: 32px;\n",
              "    }\n",
              "\n",
              "    .colab-df-convert:hover {\n",
              "      background-color: #E2EBFA;\n",
              "      box-shadow: 0px 1px 2px rgba(60, 64, 67, 0.3), 0px 1px 3px 1px rgba(60, 64, 67, 0.15);\n",
              "      fill: #174EA6;\n",
              "    }\n",
              "\n",
              "    [theme=dark] .colab-df-convert {\n",
              "      background-color: #3B4455;\n",
              "      fill: #D2E3FC;\n",
              "    }\n",
              "\n",
              "    [theme=dark] .colab-df-convert:hover {\n",
              "      background-color: #434B5C;\n",
              "      box-shadow: 0px 1px 3px 1px rgba(0, 0, 0, 0.15);\n",
              "      filter: drop-shadow(0px 1px 2px rgba(0, 0, 0, 0.3));\n",
              "      fill: #FFFFFF;\n",
              "    }\n",
              "  </style>\n",
              "\n",
              "      <script>\n",
              "        const buttonEl =\n",
              "          document.querySelector('#df-446d97e4-ae7d-4726-a065-0b8297806dcc button.colab-df-convert');\n",
              "        buttonEl.style.display =\n",
              "          google.colab.kernel.accessAllowed ? 'block' : 'none';\n",
              "\n",
              "        async function convertToInteractive(key) {\n",
              "          const element = document.querySelector('#df-446d97e4-ae7d-4726-a065-0b8297806dcc');\n",
              "          const dataTable =\n",
              "            await google.colab.kernel.invokeFunction('convertToInteractive',\n",
              "                                                     [key], {});\n",
              "          if (!dataTable) return;\n",
              "\n",
              "          const docLinkHtml = 'Like what you see? Visit the ' +\n",
              "            '<a target=\"_blank\" href=https://colab.research.google.com/notebooks/data_table.ipynb>data table notebook</a>'\n",
              "            + ' to learn more about interactive tables.';\n",
              "          element.innerHTML = '';\n",
              "          dataTable['output_type'] = 'display_data';\n",
              "          await google.colab.output.renderOutput(dataTable, element);\n",
              "          const docLink = document.createElement('div');\n",
              "          docLink.innerHTML = docLinkHtml;\n",
              "          element.appendChild(docLink);\n",
              "        }\n",
              "      </script>\n",
              "    </div>\n",
              "  </div>\n",
              "  "
            ]
          },
          "metadata": {},
          "execution_count": 8
        }
      ]
    },
    {
      "cell_type": "code",
      "source": [
        "bert = KeyBERT()\n",
        "nlp = spacy.load(\"en_core_web_sm\")"
      ],
      "metadata": {
        "id": "QJ1m7CY3oFsP"
      },
      "execution_count": null,
      "outputs": []
    },
    {
      "cell_type": "code",
      "source": [
        "# def keybert_extractor(text):\n",
        "#     keywords = bert.extract_keywords(text, keyphrase_ngram_range=(1, 3), stop_words=\"english\", top_n=1)\n",
        "#     results = []\n",
        "#     for scored_keywords in keywords:\n",
        "#         for keyword in scored_keywords:\n",
        "#             if isinstance(keyword, str):\n",
        "#                 results.append(keyword)\n",
        "#     return results "
      ],
      "metadata": {
        "id": "y6r_7R06kxkM"
      },
      "execution_count": null,
      "outputs": []
    },
    {
      "cell_type": "code",
      "source": [
        "def topic_rank_extractor(text):\n",
        "    extractor = pke.unsupervised.TopicRank()\n",
        "    extractor.load_document(text, language='en')\n",
        "    pos = {'NOUN', 'PROPN', 'ADJ', 'ADV'}\n",
        "    extractor.candidate_selection(pos=pos)\n",
        "    extractor.candidate_weighting()\n",
        "    keyphrases = extractor.get_n_best(n=5)\n",
        "    results = []\n",
        "    for scored_keywords in keyphrases:\n",
        "        for keyword in scored_keywords:\n",
        "            if isinstance(keyword, str):\n",
        "                results.append(keyword) \n",
        "    return results"
      ],
      "metadata": {
        "id": "czqmLHREobNT"
      },
      "execution_count": null,
      "outputs": []
    },
    {
      "cell_type": "code",
      "source": [
        "topic_rank_extractor(\"We are participating in a hackathon by StarkNet to learn Cairo and build awesome project with it\")"
      ],
      "metadata": {
        "colab": {
          "base_uri": "https://localhost:8080/"
        },
        "id": "ydD69TlopUGY",
        "outputId": "0497dbd4-00ee-48a3-b7e3-a58fcaabcd88"
      },
      "execution_count": null,
      "outputs": [
        {
          "output_type": "execute_result",
          "data": {
            "text/plain": [
              "['starknet', 'cairo', 'hackathon', 'awesome project']"
            ]
          },
          "metadata": {},
          "execution_count": 12
        }
      ]
    },
    {
      "cell_type": "code",
      "source": [
        "corpus_kws = {}\n",
        "for idx, text in tqdm(enumerate(questions_ls)):\n",
        "    corpus_kws[idx] = topic_rank_extractor(text)"
      ],
      "metadata": {
        "colab": {
          "base_uri": "https://localhost:8080/"
        },
        "id": "ARff28xlrGzd",
        "outputId": "b5c4f294-dca1-4b88-de64-1ddf711e0fc6"
      },
      "execution_count": null,
      "outputs": [
        {
          "output_type": "stream",
          "name": "stderr",
          "text": [
            "10000it [2:26:27,  1.14it/s]\n"
          ]
        }
      ]
    },
    {
      "cell_type": "code",
      "source": [
        "corpus_kws_df = pd.DataFrame(pd.Series(corpus_kws), columns=[\"keywords\"])"
      ],
      "metadata": {
        "id": "twvCcFVNCEtp"
      },
      "execution_count": null,
      "outputs": []
    },
    {
      "cell_type": "code",
      "source": [
        "df = pd.concat([df, corpus_kws_df], axis=1)"
      ],
      "metadata": {
        "id": "Ar-DYGFHAaCl"
      },
      "execution_count": null,
      "outputs": []
    },
    {
      "cell_type": "code",
      "source": [
        "df.to_csv('/content/drive/MyDrive/Literature Review/Dataset versions/SSDS/Added-extracted_keywords.csv')"
      ],
      "metadata": {
        "id": "5FKKOGJmB8D-"
      },
      "execution_count": null,
      "outputs": []
    },
    {
      "cell_type": "code",
      "source": [
        ""
      ],
      "metadata": {
        "id": "JUcpPGRGDNF6"
      },
      "execution_count": null,
      "outputs": []
    }
  ]
}