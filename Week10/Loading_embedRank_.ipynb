{
  "cells": [
    {
      "cell_type": "markdown",
      "metadata": {
        "id": "view-in-github",
        "colab_type": "text"
      },
      "source": [
        "<a href=\"https://colab.research.google.com/github/VenkteshV/Question_duplicate_detection/blob/main/Week10/Loading_embedRank_.ipynb\" target=\"_parent\"><img src=\"https://colab.research.google.com/assets/colab-badge.svg\" alt=\"Open In Colab\"/></a>"
      ]
    },
    {
      "cell_type": "code",
      "execution_count": 3,
      "metadata": {
        "id": "caj0ikmt5bsy"
      },
      "outputs": [],
      "source": [
        "import pandas as pd\n",
        "import os.path\n",
        "import spacy\n",
        "from tqdm import tqdm\n",
        "import time\n",
        "import numpy as np"
      ]
    },
    {
      "cell_type": "code",
      "execution_count": 2,
      "metadata": {
        "id": "fhmhutB15oMN",
        "colab": {
          "base_uri": "https://localhost:8080/"
        },
        "outputId": "a1763040-cf55-4589-ce72-65075ce84733"
      },
      "outputs": [
        {
          "output_type": "stream",
          "name": "stdout",
          "text": [
            "Mounted at /content/drive\n"
          ]
        }
      ],
      "source": [
        "from google.colab import drive\n",
        "drive.mount('/content/drive')"
      ]
    },
    {
      "cell_type": "code",
      "source": [
        "!unzip \"/content/drive/MyDrive/Extramarks Project/Dataset versions/Model2-Keyword/Embed_and_CotagRank/docsutf8.zip\"\n",
        "!unzip \"/content/drive/MyDrive/Extramarks Project/Dataset versions/Model2-Keyword/Embed_and_CotagRank/EmJacc.zip\""
      ],
      "metadata": {
        "id": "buQNg4kQR5yB"
      },
      "execution_count": null,
      "outputs": []
    },
    {
      "cell_type": "code",
      "source": [
        "def return_ques(loc):\n",
        "  f = open(loc)\n",
        "  temp = ''\n",
        "  Lines = f.readlines()\n",
        "  for i in Lines:\n",
        "    temp+= i\n",
        "  return temp"
      ],
      "metadata": {
        "id": "nLmH8EhNcUnt"
      },
      "execution_count": 61,
      "outputs": []
    },
    {
      "cell_type": "code",
      "source": [
        "NQ = 6120"
      ],
      "metadata": {
        "id": "VVNB5eVabjcD"
      },
      "execution_count": 62,
      "outputs": []
    },
    {
      "cell_type": "code",
      "source": [
        "questions = []\n",
        "for i in range(NQ):\n",
        "  temp = []\n",
        "  if os.path.isfile('content/docsutf8/'+ str(i)+ '_1.txt'):\n",
        "    temp.append(return_ques('content/docsutf8/'+ str(i)+ '_1.txt'))\n",
        "  if os.path.isfile('content/docsutf8/'+ str(i)+ '_2.txt'):\n",
        "    temp.append(return_ques('content/docsutf8/'+ str(i)+ '_2.txt'))\n",
        "  questions.append(temp)"
      ],
      "metadata": {
        "id": "c4JirVNAcRJC"
      },
      "execution_count": 63,
      "outputs": []
    },
    {
      "cell_type": "code",
      "source": [
        "return_ques('content/docsutf8/'+ '23'+ '_1.txt')"
      ],
      "metadata": {
        "colab": {
          "base_uri": "https://localhost:8080/",
          "height": 34
        },
        "id": "5mDtFl-bI34A",
        "outputId": "bdee7800-3507-4981-cd2a-c6c2519fe050"
      },
      "execution_count": 64,
      "outputs": [
        {
          "output_type": "execute_result",
          "data": {
            "text/plain": [
              "'fish die in water bodies polluted by sewage due to '"
            ],
            "application/vnd.google.colaboratory.intrinsic+json": {
              "type": "string"
            }
          },
          "metadata": {},
          "execution_count": 64
        }
      ]
    },
    {
      "cell_type": "code",
      "source": [
        "def return_key_words(loc):\n",
        "  f = open(loc)\n",
        "  # res = []\n",
        "  res = ''\n",
        "  Lines = f.readlines()\n",
        "  for i in Lines:\n",
        "    res += (' '.join(i.split()[:-1])) + ' '\n",
        "    # temp.append(round(float(i.split()[-1]),3))\n",
        "    # res.append(temp)\n",
        "  return res"
      ],
      "metadata": {
        "id": "I04Bbg-2I3xw"
      },
      "execution_count": 65,
      "outputs": []
    },
    {
      "cell_type": "code",
      "source": [
        "keywords = []\n",
        "for i in range(NQ):\n",
        "  temp = []\n",
        "  if os.path.isfile('EmJacc/'+ str(i)+ '_1'):\n",
        "    temp.append(return_key_words('EmJacc/'+ str(i)+ '_1'))\n",
        "  if os.path.isfile('EmJacc/'+ str(i)+ '_2'):\n",
        "    temp.append(return_key_words('EmJacc/'+ str(i)+ '_2'))\n",
        "  keywords.append(temp)"
      ],
      "metadata": {
        "id": "y9VvkYcmR5va"
      },
      "execution_count": 66,
      "outputs": []
    },
    {
      "cell_type": "code",
      "source": [
        "# column = []\n",
        "# column.append(keywords)\n",
        "# column[0]"
      ],
      "metadata": {
        "id": "dt08b1WJidLf"
      },
      "execution_count": 67,
      "outputs": []
    },
    {
      "cell_type": "code",
      "source": [
        "keywords[0]"
      ],
      "metadata": {
        "colab": {
          "base_uri": "https://localhost:8080/"
        },
        "id": "NMc_ngo-iK4t",
        "outputId": "b426a843-12e4-439c-98fc-8748969cf812"
      },
      "execution_count": 68,
      "outputs": [
        {
          "output_type": "execute_result",
          "data": {
            "text/plain": [
              "['many π bonds ferrocene ', 'many π bonds ferrocene ']"
            ]
          },
          "metadata": {},
          "execution_count": 68
        }
      ]
    },
    {
      "cell_type": "code",
      "source": [
        "newDf = pd.concat([pd.DataFrame(questions), pd.DataFrame(keywords)], axis=1, names=['ques1', 'ques2', 'keyword_1', 'keyword_2'])\n",
        "# newDf.to_csv(\"/content/drive/MyDrive/Extramarks Project/Dataset versions/Model2-Keyword/Embed_and_CotagRank/EmJaccFinal.csv\")"
      ],
      "metadata": {
        "id": "5sD4UL-bR5ry"
      },
      "execution_count": 69,
      "outputs": []
    },
    {
      "cell_type": "code",
      "source": [
        "newDf"
      ],
      "metadata": {
        "colab": {
          "base_uri": "https://localhost:8080/",
          "height": 522
        },
        "id": "nYDy_2G_8kpS",
        "outputId": "17419ce5-1425-4243-fc1b-b0bc0ea5ec39"
      },
      "execution_count": 70,
      "outputs": [
        {
          "output_type": "execute_result",
          "data": {
            "text/plain": [
              "                                                      0  \\\n",
              "0            how many π bonds are present in ferrocene    \n",
              "1            how many π bonds are present in ferrocene    \n",
              "2     what is covalency of chlorine atom in second e...   \n",
              "3     calculate value of x y here x and y are the to...   \n",
              "4     in phosphorus acid if x is number of non bondi...   \n",
              "...                                                 ...   \n",
              "6115                  she wondered whether the project    \n",
              "6116                          i thought that bus fares    \n",
              "6117                          i thought that bus fares    \n",
              "6118                          i thought that bus fares    \n",
              "6119                                  tim said that he    \n",
              "\n",
              "                                                      1  \\\n",
              "0                  how many π are present in ferrocene    \n",
              "1      how many π bonds are present in silicon dioxide    \n",
              "2     what is covalency of chlorine atom in second e...   \n",
              "3     calculate value of x y here x and y are the to...   \n",
              "4     in phosphorus acid if x is number of non bondi...   \n",
              "...                                                 ...   \n",
              "6115                  she wondered whether the project    \n",
              "6116                          i thought that bus fares    \n",
              "6117                      i thought that the bus fares    \n",
              "6118                      i thought that the bus fares    \n",
              "6119                                  tim said that he    \n",
              "\n",
              "                                                      0  \\\n",
              "0                               many π bonds ferrocene    \n",
              "1                               many π bonds ferrocene    \n",
              "2         chlorine atom second excited state covalency    \n",
              "3     benzene x bonds benzyne orbitals total number ...   \n",
              "4     phosphorus acid non bonding electron pairs σ b...   \n",
              "...                                                 ...   \n",
              "6115                                           project    \n",
              "6116                                         bus fares    \n",
              "6117                                         bus fares    \n",
              "6118                                         bus fares    \n",
              "6119                                               tim    \n",
              "\n",
              "                                                      1  \n",
              "0                               many π bonds ferrocene   \n",
              "1                               many π bonds ferrocene   \n",
              "2         chlorine atom second excited state covalency   \n",
              "3     benzene x bonds benzyne orbitals total number ...  \n",
              "4     phosphorus acid non bonding electron pairs σ b...  \n",
              "...                                                 ...  \n",
              "6115                                           project   \n",
              "6116                                         bus fares   \n",
              "6117                                         bus fares   \n",
              "6118                                         bus fares   \n",
              "6119                                               tim   \n",
              "\n",
              "[6120 rows x 4 columns]"
            ],
            "text/html": [
              "\n",
              "  <div id=\"df-bb867b1d-f70a-4075-89a7-38b2914c4d11\">\n",
              "    <div class=\"colab-df-container\">\n",
              "      <div>\n",
              "<style scoped>\n",
              "    .dataframe tbody tr th:only-of-type {\n",
              "        vertical-align: middle;\n",
              "    }\n",
              "\n",
              "    .dataframe tbody tr th {\n",
              "        vertical-align: top;\n",
              "    }\n",
              "\n",
              "    .dataframe thead th {\n",
              "        text-align: right;\n",
              "    }\n",
              "</style>\n",
              "<table border=\"1\" class=\"dataframe\">\n",
              "  <thead>\n",
              "    <tr style=\"text-align: right;\">\n",
              "      <th></th>\n",
              "      <th>0</th>\n",
              "      <th>1</th>\n",
              "      <th>0</th>\n",
              "      <th>1</th>\n",
              "    </tr>\n",
              "  </thead>\n",
              "  <tbody>\n",
              "    <tr>\n",
              "      <th>0</th>\n",
              "      <td>how many π bonds are present in ferrocene</td>\n",
              "      <td>how many π are present in ferrocene</td>\n",
              "      <td>many π bonds ferrocene</td>\n",
              "      <td>many π bonds ferrocene</td>\n",
              "    </tr>\n",
              "    <tr>\n",
              "      <th>1</th>\n",
              "      <td>how many π bonds are present in ferrocene</td>\n",
              "      <td>how many π bonds are present in silicon dioxide</td>\n",
              "      <td>many π bonds ferrocene</td>\n",
              "      <td>many π bonds ferrocene</td>\n",
              "    </tr>\n",
              "    <tr>\n",
              "      <th>2</th>\n",
              "      <td>what is covalency of chlorine atom in second e...</td>\n",
              "      <td>what is covalency of chlorine atom in second e...</td>\n",
              "      <td>chlorine atom second excited state covalency</td>\n",
              "      <td>chlorine atom second excited state covalency</td>\n",
              "    </tr>\n",
              "    <tr>\n",
              "      <th>3</th>\n",
              "      <td>calculate value of x y here x and y are the to...</td>\n",
              "      <td>calculate value of x y here x and y are the to...</td>\n",
              "      <td>benzene x bonds benzyne orbitals total number ...</td>\n",
              "      <td>benzene x bonds benzyne orbitals total number ...</td>\n",
              "    </tr>\n",
              "    <tr>\n",
              "      <th>4</th>\n",
              "      <td>in phosphorus acid if x is number of non bondi...</td>\n",
              "      <td>in phosphorus acid if x is number of non bondi...</td>\n",
              "      <td>phosphorus acid non bonding electron pairs σ b...</td>\n",
              "      <td>phosphorus acid non bonding electron pairs σ b...</td>\n",
              "    </tr>\n",
              "    <tr>\n",
              "      <th>...</th>\n",
              "      <td>...</td>\n",
              "      <td>...</td>\n",
              "      <td>...</td>\n",
              "      <td>...</td>\n",
              "    </tr>\n",
              "    <tr>\n",
              "      <th>6115</th>\n",
              "      <td>she wondered whether the project</td>\n",
              "      <td>she wondered whether the project</td>\n",
              "      <td>project</td>\n",
              "      <td>project</td>\n",
              "    </tr>\n",
              "    <tr>\n",
              "      <th>6116</th>\n",
              "      <td>i thought that bus fares</td>\n",
              "      <td>i thought that bus fares</td>\n",
              "      <td>bus fares</td>\n",
              "      <td>bus fares</td>\n",
              "    </tr>\n",
              "    <tr>\n",
              "      <th>6117</th>\n",
              "      <td>i thought that bus fares</td>\n",
              "      <td>i thought that the bus fares</td>\n",
              "      <td>bus fares</td>\n",
              "      <td>bus fares</td>\n",
              "    </tr>\n",
              "    <tr>\n",
              "      <th>6118</th>\n",
              "      <td>i thought that bus fares</td>\n",
              "      <td>i thought that the bus fares</td>\n",
              "      <td>bus fares</td>\n",
              "      <td>bus fares</td>\n",
              "    </tr>\n",
              "    <tr>\n",
              "      <th>6119</th>\n",
              "      <td>tim said that he</td>\n",
              "      <td>tim said that he</td>\n",
              "      <td>tim</td>\n",
              "      <td>tim</td>\n",
              "    </tr>\n",
              "  </tbody>\n",
              "</table>\n",
              "<p>6120 rows × 4 columns</p>\n",
              "</div>\n",
              "      <button class=\"colab-df-convert\" onclick=\"convertToInteractive('df-bb867b1d-f70a-4075-89a7-38b2914c4d11')\"\n",
              "              title=\"Convert this dataframe to an interactive table.\"\n",
              "              style=\"display:none;\">\n",
              "        \n",
              "  <svg xmlns=\"http://www.w3.org/2000/svg\" height=\"24px\"viewBox=\"0 0 24 24\"\n",
              "       width=\"24px\">\n",
              "    <path d=\"M0 0h24v24H0V0z\" fill=\"none\"/>\n",
              "    <path d=\"M18.56 5.44l.94 2.06.94-2.06 2.06-.94-2.06-.94-.94-2.06-.94 2.06-2.06.94zm-11 1L8.5 8.5l.94-2.06 2.06-.94-2.06-.94L8.5 2.5l-.94 2.06-2.06.94zm10 10l.94 2.06.94-2.06 2.06-.94-2.06-.94-.94-2.06-.94 2.06-2.06.94z\"/><path d=\"M17.41 7.96l-1.37-1.37c-.4-.4-.92-.59-1.43-.59-.52 0-1.04.2-1.43.59L10.3 9.45l-7.72 7.72c-.78.78-.78 2.05 0 2.83L4 21.41c.39.39.9.59 1.41.59.51 0 1.02-.2 1.41-.59l7.78-7.78 2.81-2.81c.8-.78.8-2.07 0-2.86zM5.41 20L4 18.59l7.72-7.72 1.47 1.35L5.41 20z\"/>\n",
              "  </svg>\n",
              "      </button>\n",
              "      \n",
              "  <style>\n",
              "    .colab-df-container {\n",
              "      display:flex;\n",
              "      flex-wrap:wrap;\n",
              "      gap: 12px;\n",
              "    }\n",
              "\n",
              "    .colab-df-convert {\n",
              "      background-color: #E8F0FE;\n",
              "      border: none;\n",
              "      border-radius: 50%;\n",
              "      cursor: pointer;\n",
              "      display: none;\n",
              "      fill: #1967D2;\n",
              "      height: 32px;\n",
              "      padding: 0 0 0 0;\n",
              "      width: 32px;\n",
              "    }\n",
              "\n",
              "    .colab-df-convert:hover {\n",
              "      background-color: #E2EBFA;\n",
              "      box-shadow: 0px 1px 2px rgba(60, 64, 67, 0.3), 0px 1px 3px 1px rgba(60, 64, 67, 0.15);\n",
              "      fill: #174EA6;\n",
              "    }\n",
              "\n",
              "    [theme=dark] .colab-df-convert {\n",
              "      background-color: #3B4455;\n",
              "      fill: #D2E3FC;\n",
              "    }\n",
              "\n",
              "    [theme=dark] .colab-df-convert:hover {\n",
              "      background-color: #434B5C;\n",
              "      box-shadow: 0px 1px 3px 1px rgba(0, 0, 0, 0.15);\n",
              "      filter: drop-shadow(0px 1px 2px rgba(0, 0, 0, 0.3));\n",
              "      fill: #FFFFFF;\n",
              "    }\n",
              "  </style>\n",
              "\n",
              "      <script>\n",
              "        const buttonEl =\n",
              "          document.querySelector('#df-bb867b1d-f70a-4075-89a7-38b2914c4d11 button.colab-df-convert');\n",
              "        buttonEl.style.display =\n",
              "          google.colab.kernel.accessAllowed ? 'block' : 'none';\n",
              "\n",
              "        async function convertToInteractive(key) {\n",
              "          const element = document.querySelector('#df-bb867b1d-f70a-4075-89a7-38b2914c4d11');\n",
              "          const dataTable =\n",
              "            await google.colab.kernel.invokeFunction('convertToInteractive',\n",
              "                                                     [key], {});\n",
              "          if (!dataTable) return;\n",
              "\n",
              "          const docLinkHtml = 'Like what you see? Visit the ' +\n",
              "            '<a target=\"_blank\" href=https://colab.research.google.com/notebooks/data_table.ipynb>data table notebook</a>'\n",
              "            + ' to learn more about interactive tables.';\n",
              "          element.innerHTML = '';\n",
              "          dataTable['output_type'] = 'display_data';\n",
              "          await google.colab.output.renderOutput(dataTable, element);\n",
              "          const docLink = document.createElement('div');\n",
              "          docLink.innerHTML = docLinkHtml;\n",
              "          element.appendChild(docLink);\n",
              "        }\n",
              "      </script>\n",
              "    </div>\n",
              "  </div>\n",
              "  "
            ]
          },
          "metadata": {},
          "execution_count": 70
        }
      ]
    },
    {
      "cell_type": "code",
      "source": [
        ""
      ],
      "metadata": {
        "id": "-UQEgFym-GF-"
      },
      "execution_count": 51,
      "outputs": []
    }
  ],
  "metadata": {
    "colab": {
      "collapsed_sections": [],
      "name": "Loading_embedRank .ipynb",
      "provenance": [],
      "include_colab_link": true
    },
    "gpuClass": "standard",
    "kernelspec": {
      "display_name": "Python 3",
      "name": "python3"
    },
    "language_info": {
      "name": "python"
    }
  },
  "nbformat": 4,
  "nbformat_minor": 0
}