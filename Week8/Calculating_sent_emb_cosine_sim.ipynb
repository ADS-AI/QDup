{
  "nbformat": 4,
  "nbformat_minor": 0,
  "metadata": {
    "colab": {
      "name": "Calculating_sent_emb_cosine_sim.ipynb",
      "provenance": [],
      "authorship_tag": "ABX9TyMf0InIP2K5KuOiIPMZcekw",
      "include_colab_link": true
    },
    "kernelspec": {
      "name": "python3",
      "display_name": "Python 3"
    },
    "language_info": {
      "name": "python"
    },
    "gpuClass": "standard"
  },
  "cells": [
    {
      "cell_type": "markdown",
      "metadata": {
        "id": "view-in-github",
        "colab_type": "text"
      },
      "source": [
        "<a href=\"https://colab.research.google.com/github/VenkteshV/Question_duplicate_detection/blob/main/Week8/Calculating_sent_emb_cosine_sim.ipynb\" target=\"_parent\"><img src=\"https://colab.research.google.com/assets/colab-badge.svg\" alt=\"Open In Colab\"/></a>"
      ]
    },
    {
      "cell_type": "markdown",
      "source": [
        "### imports"
      ],
      "metadata": {
        "id": "wokcHcsbPjlF"
      }
    },
    {
      "cell_type": "code",
      "execution_count": null,
      "metadata": {
        "id": "ZkEFKwtpMS4U"
      },
      "outputs": [],
      "source": [
        "%matplotlib inline\n",
        "import matplotlib.pyplot as plt\n",
        "import seaborn as sns\n",
        "import pandas as pd\n",
        "import numpy as np\n",
        "from tqdm import tqdm\n",
        "from scipy import spatial"
      ]
    },
    {
      "cell_type": "code",
      "source": [
        "!pip install --quiet transformers\n",
        "!pip install --quiet tensorboard\n",
        "!pip install --quiet  sentence_transformers\n",
        "import pandas as pd\n",
        "import numpy as np\n",
        "import torch\n",
        "import pandas as pd\n",
        "from time import time\n",
        "from transformers import AutoTokenizer, AutoModel, AutoModelForSequenceClassification\n",
        "import tensorflow_hub as hub # For USE\n",
        "from sentence_transformers import SentenceTransformer\n",
        "import os\n",
        "import tensorflow as tf\n",
        "import datetime\n",
        "from tensorboard.plugins import projector\n",
        "\n",
        "\n",
        "def generate_embeddings(model_name, data_ls):\n",
        "    if model_name == \"USE\":\n",
        "        print(\"Check 1\")\n",
        "        embed = hub.load(\"https://tfhub.dev/google/universal-sentence-encoder/4\")\n",
        "        print(\"Check 2\")\n",
        "        embeddings = embed(data_ls)\n",
        "        print(\"Check 3\")\n",
        "        embeddings = embeddings.numpy()\n",
        "        print(\"Check 4\")\n",
        "        return embeddings\n",
        "\n",
        "    elif model_name == \"all-MiniLM\":\n",
        "        # All-round model tuned for many use-cases. Trained on a large and diverse dataset of over 1 billion training pairs.\n",
        "        model = SentenceTransformer('all-MiniLM-L12-v2')\n",
        "        embeddings = model.encode(data_ls)\n",
        "        return embeddings\n",
        "\n",
        "    elif model_name == \"paraphrase-MiniLM-L6-v2\":\n",
        "        model = SentenceTransformer('paraphrase-MiniLM-L6-v2')\n",
        "        embeddings = model.encode(data_ls)\n",
        "        return embeddings\n",
        "\n",
        "    elif model_name == \"multi-qa-MiniLM-L6-cos-v1\":\n",
        "        # This model was tuned for semantic search: Given a query/question, if can find relevant passages. It was trained on a large and diverse set of (question, answer) pairs.\n",
        "        model = SentenceTransformer('multi-qa-MiniLM-L6-cos-v1')\n",
        "        embeddings = model.encode(data_ls)\n",
        "        return embeddings\n",
        "\n",
        "    elif model_name == \"multi-qa-mpnet-base-dot-v1\":\n",
        "        # This model was tuned for semantic search: Given a query/question, if can find relevant passages. It was trained on a large and diverse set of (question, answer) pairs.\n",
        "        model = SentenceTransformer('multi-qa-mpnet-base-dot-v1')\n",
        "        embeddings = model.encode(data_ls)\n",
        "        return embeddings\n",
        "    elif model_name == \"all-mpnet-base-v2\":\n",
        "        # All-round model tuned for many use-cases. Trained on a large and diverse dataset of over 1 billion training pairs.\n",
        "        model = SentenceTransformer('all-mpnet-base-v2')\n",
        "        embeddings = model.encode(data_ls)\n",
        "        return embeddings\n",
        "\n",
        "    elif model_name == \"paraphrase-albert-small-V2\":\n",
        "        model = SentenceTransformer('paraphrase-albert-small-v2')\n",
        "        embeddings = model.encode(data_ls)\n",
        "        return embeddings\n",
        "\n",
        "    elif model_name == \"all-distilroberta-v1\":\n",
        "        model = SentenceTransformer('all-distilroberta-v1')\n",
        "        embeddings = model.encode(data_ls)\n",
        "        return embeddings\n",
        "\n",
        "    else:\n",
        "        print(\"sorry\")"
      ],
      "metadata": {
        "id": "kgURMG7MPi3t"
      },
      "execution_count": null,
      "outputs": []
    },
    {
      "cell_type": "code",
      "source": [
        "from google.colab import drive\n",
        "drive.mount('/content/drive')"
      ],
      "metadata": {
        "colab": {
          "base_uri": "https://localhost:8080/"
        },
        "id": "nFt2xK8OM-6d",
        "outputId": "0e138b66-a98d-4440-a2e5-9a31fccc9b07"
      },
      "execution_count": null,
      "outputs": [
        {
          "output_type": "stream",
          "name": "stdout",
          "text": [
            "Drive already mounted at /content/drive; to attempt to forcibly remount, call drive.mount(\"/content/drive\", force_remount=True).\n"
          ]
        }
      ]
    },
    {
      "cell_type": "markdown",
      "source": [
        "### Code"
      ],
      "metadata": {
        "id": "61X9anJwPnzV"
      }
    },
    {
      "cell_type": "code",
      "source": [
        "df = pd.read_csv(\"drive/My Drive/Extramarks Project/Dataset versions/JEE-ans-no_num-no_fillBlank-replaced_ofthefollowing-removed_one_letter_sent_also.csv\")\n",
        "df = df.drop(\"Unnamed: 0\", axis = 1)"
      ],
      "metadata": {
        "colab": {
          "base_uri": "https://localhost:8080/"
        },
        "id": "hRvVqlSiNASK",
        "outputId": "e807f967-c127-4568-c7c8-c202e3351892"
      },
      "execution_count": null,
      "outputs": [
        {
          "output_type": "stream",
          "name": "stderr",
          "text": [
            "/usr/local/lib/python3.7/dist-packages/IPython/core/interactiveshell.py:2882: DtypeWarning: Columns (3) have mixed types.Specify dtype option on import or set low_memory=False.\n",
            "  exec(code_obj, self.user_global_ns, self.user_ns)\n"
          ]
        }
      ]
    },
    {
      "cell_type": "code",
      "source": [
        "df.head()"
      ],
      "metadata": {
        "colab": {
          "base_uri": "https://localhost:8080/",
          "height": 206
        },
        "id": "yHC0PnUaOC4D",
        "outputId": "9d626653-c99b-4a77-af68-a11f2913c5c4"
      },
      "execution_count": null,
      "outputs": [
        {
          "output_type": "execute_result",
          "data": {
            "text/plain": [
              "   question_id                                           question syllabus_id  \\\n",
              "0      2073346         how many π bonds are present in ferrocene       700295   \n",
              "1      2073324  what is covalency of chlorine atom in second e...      698013   \n",
              "2      2073225  in solid x atoms goes to corner of the cube an...      700078   \n",
              "3      2073215  calculate value of x y here x and y are the to...      697895   \n",
              "4      2073202  in phosphorus acid if x is number of non bondi...      697895   \n",
              "\n",
              "                                              answer        question_type  \\\n",
              "0                                                 a   Subjective Question   \n",
              "1                                                 a   Subjective Question   \n",
              "2                         No of x atoms 8 18 2 12 2   Subjective Question   \n",
              "3  stryde images 2022 04 11 202204110162130016496...  Subjective Question   \n",
              "4  stryde images 2022 04 11 202204119693370016496...  Subjective Question   \n",
              "\n",
              "   len  words  \n",
              "0   41      8  \n",
              "1   58     10  \n",
              "2  126     25  \n",
              "3  156     28  \n",
              "4  143     32  "
            ],
            "text/html": [
              "\n",
              "  <div id=\"df-876c50a1-16f4-4605-a3be-7921c328e144\">\n",
              "    <div class=\"colab-df-container\">\n",
              "      <div>\n",
              "<style scoped>\n",
              "    .dataframe tbody tr th:only-of-type {\n",
              "        vertical-align: middle;\n",
              "    }\n",
              "\n",
              "    .dataframe tbody tr th {\n",
              "        vertical-align: top;\n",
              "    }\n",
              "\n",
              "    .dataframe thead th {\n",
              "        text-align: right;\n",
              "    }\n",
              "</style>\n",
              "<table border=\"1\" class=\"dataframe\">\n",
              "  <thead>\n",
              "    <tr style=\"text-align: right;\">\n",
              "      <th></th>\n",
              "      <th>question_id</th>\n",
              "      <th>question</th>\n",
              "      <th>syllabus_id</th>\n",
              "      <th>answer</th>\n",
              "      <th>question_type</th>\n",
              "      <th>len</th>\n",
              "      <th>words</th>\n",
              "    </tr>\n",
              "  </thead>\n",
              "  <tbody>\n",
              "    <tr>\n",
              "      <th>0</th>\n",
              "      <td>2073346</td>\n",
              "      <td>how many π bonds are present in ferrocene</td>\n",
              "      <td>700295</td>\n",
              "      <td>a</td>\n",
              "      <td>Subjective Question</td>\n",
              "      <td>41</td>\n",
              "      <td>8</td>\n",
              "    </tr>\n",
              "    <tr>\n",
              "      <th>1</th>\n",
              "      <td>2073324</td>\n",
              "      <td>what is covalency of chlorine atom in second e...</td>\n",
              "      <td>698013</td>\n",
              "      <td>a</td>\n",
              "      <td>Subjective Question</td>\n",
              "      <td>58</td>\n",
              "      <td>10</td>\n",
              "    </tr>\n",
              "    <tr>\n",
              "      <th>2</th>\n",
              "      <td>2073225</td>\n",
              "      <td>in solid x atoms goes to corner of the cube an...</td>\n",
              "      <td>700078</td>\n",
              "      <td>No of x atoms 8 18 2 12 2</td>\n",
              "      <td>Subjective Question</td>\n",
              "      <td>126</td>\n",
              "      <td>25</td>\n",
              "    </tr>\n",
              "    <tr>\n",
              "      <th>3</th>\n",
              "      <td>2073215</td>\n",
              "      <td>calculate value of x y here x and y are the to...</td>\n",
              "      <td>697895</td>\n",
              "      <td>stryde images 2022 04 11 202204110162130016496...</td>\n",
              "      <td>Subjective Question</td>\n",
              "      <td>156</td>\n",
              "      <td>28</td>\n",
              "    </tr>\n",
              "    <tr>\n",
              "      <th>4</th>\n",
              "      <td>2073202</td>\n",
              "      <td>in phosphorus acid if x is number of non bondi...</td>\n",
              "      <td>697895</td>\n",
              "      <td>stryde images 2022 04 11 202204119693370016496...</td>\n",
              "      <td>Subjective Question</td>\n",
              "      <td>143</td>\n",
              "      <td>32</td>\n",
              "    </tr>\n",
              "  </tbody>\n",
              "</table>\n",
              "</div>\n",
              "      <button class=\"colab-df-convert\" onclick=\"convertToInteractive('df-876c50a1-16f4-4605-a3be-7921c328e144')\"\n",
              "              title=\"Convert this dataframe to an interactive table.\"\n",
              "              style=\"display:none;\">\n",
              "        \n",
              "  <svg xmlns=\"http://www.w3.org/2000/svg\" height=\"24px\"viewBox=\"0 0 24 24\"\n",
              "       width=\"24px\">\n",
              "    <path d=\"M0 0h24v24H0V0z\" fill=\"none\"/>\n",
              "    <path d=\"M18.56 5.44l.94 2.06.94-2.06 2.06-.94-2.06-.94-.94-2.06-.94 2.06-2.06.94zm-11 1L8.5 8.5l.94-2.06 2.06-.94-2.06-.94L8.5 2.5l-.94 2.06-2.06.94zm10 10l.94 2.06.94-2.06 2.06-.94-2.06-.94-.94-2.06-.94 2.06-2.06.94z\"/><path d=\"M17.41 7.96l-1.37-1.37c-.4-.4-.92-.59-1.43-.59-.52 0-1.04.2-1.43.59L10.3 9.45l-7.72 7.72c-.78.78-.78 2.05 0 2.83L4 21.41c.39.39.9.59 1.41.59.51 0 1.02-.2 1.41-.59l7.78-7.78 2.81-2.81c.8-.78.8-2.07 0-2.86zM5.41 20L4 18.59l7.72-7.72 1.47 1.35L5.41 20z\"/>\n",
              "  </svg>\n",
              "      </button>\n",
              "      \n",
              "  <style>\n",
              "    .colab-df-container {\n",
              "      display:flex;\n",
              "      flex-wrap:wrap;\n",
              "      gap: 12px;\n",
              "    }\n",
              "\n",
              "    .colab-df-convert {\n",
              "      background-color: #E8F0FE;\n",
              "      border: none;\n",
              "      border-radius: 50%;\n",
              "      cursor: pointer;\n",
              "      display: none;\n",
              "      fill: #1967D2;\n",
              "      height: 32px;\n",
              "      padding: 0 0 0 0;\n",
              "      width: 32px;\n",
              "    }\n",
              "\n",
              "    .colab-df-convert:hover {\n",
              "      background-color: #E2EBFA;\n",
              "      box-shadow: 0px 1px 2px rgba(60, 64, 67, 0.3), 0px 1px 3px 1px rgba(60, 64, 67, 0.15);\n",
              "      fill: #174EA6;\n",
              "    }\n",
              "\n",
              "    [theme=dark] .colab-df-convert {\n",
              "      background-color: #3B4455;\n",
              "      fill: #D2E3FC;\n",
              "    }\n",
              "\n",
              "    [theme=dark] .colab-df-convert:hover {\n",
              "      background-color: #434B5C;\n",
              "      box-shadow: 0px 1px 3px 1px rgba(0, 0, 0, 0.15);\n",
              "      filter: drop-shadow(0px 1px 2px rgba(0, 0, 0, 0.3));\n",
              "      fill: #FFFFFF;\n",
              "    }\n",
              "  </style>\n",
              "\n",
              "      <script>\n",
              "        const buttonEl =\n",
              "          document.querySelector('#df-876c50a1-16f4-4605-a3be-7921c328e144 button.colab-df-convert');\n",
              "        buttonEl.style.display =\n",
              "          google.colab.kernel.accessAllowed ? 'block' : 'none';\n",
              "\n",
              "        async function convertToInteractive(key) {\n",
              "          const element = document.querySelector('#df-876c50a1-16f4-4605-a3be-7921c328e144');\n",
              "          const dataTable =\n",
              "            await google.colab.kernel.invokeFunction('convertToInteractive',\n",
              "                                                     [key], {});\n",
              "          if (!dataTable) return;\n",
              "\n",
              "          const docLinkHtml = 'Like what you see? Visit the ' +\n",
              "            '<a target=\"_blank\" href=https://colab.research.google.com/notebooks/data_table.ipynb>data table notebook</a>'\n",
              "            + ' to learn more about interactive tables.';\n",
              "          element.innerHTML = '';\n",
              "          dataTable['output_type'] = 'display_data';\n",
              "          await google.colab.output.renderOutput(dataTable, element);\n",
              "          const docLink = document.createElement('div');\n",
              "          docLink.innerHTML = docLinkHtml;\n",
              "          element.appendChild(docLink);\n",
              "        }\n",
              "      </script>\n",
              "    </div>\n",
              "  </div>\n",
              "  "
            ]
          },
          "metadata": {},
          "execution_count": 92
        }
      ]
    },
    {
      "cell_type": "code",
      "source": [
        "len(df) - df['question_id'].nunique()"
      ],
      "metadata": {
        "colab": {
          "base_uri": "https://localhost:8080/"
        },
        "id": "lsryUsc_RJ_G",
        "outputId": "ea45d08e-344d-41ae-d84a-950403b179fa"
      },
      "execution_count": null,
      "outputs": [
        {
          "output_type": "execute_result",
          "data": {
            "text/plain": [
              "0"
            ]
          },
          "metadata": {},
          "execution_count": 93
        }
      ]
    },
    {
      "cell_type": "code",
      "source": [
        "questions = df['question'].tolist()"
      ],
      "metadata": {
        "id": "In80EFJsQB42"
      },
      "execution_count": null,
      "outputs": []
    },
    {
      "cell_type": "code",
      "source": [
        "t =time()\n",
        "embeds = generate_embeddings(\"all-mpnet-base-v2\", questions)\n",
        "print(\"Time taken: \" , int((time() - t)%60) ,\"s, \", int((time() - t)/60), \"m\")"
      ],
      "metadata": {
        "id": "JPXWcPLKPzIr"
      },
      "execution_count": null,
      "outputs": []
    },
    {
      "cell_type": "code",
      "source": [
        "embedding_df = pd.DataFrame(embeds)\n",
        "path = \"drive/MyDrive/Extramarks Project/Dataset versions/Model1-Semantic/Embeddings/output.tsv\"\n",
        "with open(path, 'w', encoding = 'utf-8-sig') as f:\n",
        "  embedding_df.to_csv(f, index=False, sep='\\t')"
      ],
      "metadata": {
        "id": "y2BZe-UBWLTv"
      },
      "execution_count": null,
      "outputs": []
    },
    {
      "cell_type": "code",
      "source": [
        "sentences_df = pd.DataFrame(questions)\n",
        "path = \"drive/MyDrive/Extramarks Project/Dataset versions/Model1-Semantic/Embeddings/metadata.tsv\"\n",
        "with open(path, 'w', encoding = 'utf-8-sig') as f:\n",
        "  sentences_df.to_csv(f, index=False, sep='\\t')"
      ],
      "metadata": {
        "id": "ZaNauNjWWPHK"
      },
      "execution_count": null,
      "outputs": []
    },
    {
      "cell_type": "code",
      "source": [
        "question_ids = df['question_id'].tolist()"
      ],
      "metadata": {
        "id": "lfoB8IJlQKwE"
      },
      "execution_count": null,
      "outputs": []
    },
    {
      "cell_type": "code",
      "source": [
        "ques_to_embed = dict(zip(question_ids, embeds))"
      ],
      "metadata": {
        "id": "m8C-QJMkQ0h8"
      },
      "execution_count": null,
      "outputs": []
    },
    {
      "cell_type": "code",
      "source": [
        "newDf = pd.read_csv(\"drive/My Drive/Extramarks Project/Dataset versions/Model1-Semantic/Jacc_sim_ignore_syllabus.csv\")\n",
        "newDf = newDf.drop(\"Unnamed: 0\", axis = 1)"
      ],
      "metadata": {
        "id": "LLPMk21kQRVm"
      },
      "execution_count": null,
      "outputs": []
    },
    {
      "cell_type": "code",
      "source": [
        "newDf.head()"
      ],
      "metadata": {
        "id": "dM2j1bn5QXcQ"
      },
      "execution_count": null,
      "outputs": []
    },
    {
      "cell_type": "code",
      "source": [
        "cos_similarities = []\n",
        "for index, row in newDf.iterrows():\n",
        "  cos_sim = 1 - spatial.distance.cosine(ques_to_embed[row['question_id1']], ques_to_embed[row['question_id2']])\n",
        "  cos_similarities.append(cos_sim)"
      ],
      "metadata": {
        "id": "4FJmEVZ_RaKT"
      },
      "execution_count": null,
      "outputs": []
    },
    {
      "cell_type": "code",
      "source": [
        "newDf['cos_sim'] = cos_similarities\n",
        "newDf.to_csv(\"drive/My Drive/Extramarks Project/Dataset versions/Model1-Semantic/JaccPlusEmbedCosinSim.csv\")"
      ],
      "metadata": {
        "id": "AZWQYymrVzPi"
      },
      "execution_count": null,
      "outputs": []
    }
  ]
}